{
  "nbformat": 4,
  "nbformat_minor": 0,
  "metadata": {
    "colab": {
      "provenance": [],
      "authorship_tag": "ABX9TyPB8Lng55Mqij1YiItxVW9F",
      "include_colab_link": true
    },
    "kernelspec": {
      "name": "python3",
      "display_name": "Python 3"
    },
    "language_info": {
      "name": "python"
    }
  },
  "cells": [
    {
      "cell_type": "markdown",
      "metadata": {
        "id": "view-in-github",
        "colab_type": "text"
      },
      "source": [
        "<a href=\"https://colab.research.google.com/github/juhumkwon/Defense_Cloud/blob/main/4_4_Naive_Bayes_(%ED%85%8D%EC%8A%A4%ED%8A%B8_%EB%B6%84%EB%A5%98%EA%B8%B0).ipynb\" target=\"_parent\"><img src=\"https://colab.research.google.com/assets/colab-badge.svg\" alt=\"Open In Colab\"/></a>"
      ]
    },
    {
      "cell_type": "code",
      "execution_count": 1,
      "metadata": {
        "colab": {
          "base_uri": "https://localhost:8080/"
        },
        "id": "lx3Suhl4bssq",
        "outputId": "bd369175-9d11-43ce-e2d2-7b0589d518f5"
      },
      "outputs": [
        {
          "output_type": "stream",
          "name": "stdout",
          "text": [
            "Requirement already satisfied: numpy in /usr/local/lib/python3.11/dist-packages (2.0.2)\n",
            "Requirement already satisfied: scikit-learn in /usr/local/lib/python3.11/dist-packages (1.6.1)\n",
            "Requirement already satisfied: scipy>=1.6.0 in /usr/local/lib/python3.11/dist-packages (from scikit-learn) (1.14.1)\n",
            "Requirement already satisfied: joblib>=1.2.0 in /usr/local/lib/python3.11/dist-packages (from scikit-learn) (1.4.2)\n",
            "Requirement already satisfied: threadpoolctl>=3.1.0 in /usr/local/lib/python3.11/dist-packages (from scikit-learn) (3.6.0)\n"
          ]
        }
      ],
      "source": [
        "!pip install numpy scikit-learn"
      ]
    },
    {
      "cell_type": "code",
      "source": [
        "import numpy as np\n",
        "from sklearn.feature_extraction.text import CountVectorizer\n",
        "from sklearn.naive_bayes import MultinomialNB\n",
        "from sklearn.model_selection import train_test_split\n",
        "from sklearn.metrics import accuracy_score\n",
        "\n",
        "# 데이터셋 (간단한 예제용 텍스트 데이터)\n",
        "documents = [\n",
        "    \"I love programming\",  # 긍정\n",
        "    \"Python is amazing\",   # 긍정\n",
        "    \"I hate bugs\",         # 부정\n",
        "    \"Debugging is fun\",    # 긍정\n",
        "    \"I dislike errors\",    # 부정\n",
        "    \"Coding is awesome\",   # 긍정\n",
        "    \"I don't like debugging\",  # 부정\n",
        "    \"Programming is great\"  # 긍정\n",
        "]\n",
        "\n",
        "# 레이블 (1: 긍정, 0: 부정)\n",
        "labels = [1, 1, 0, 1, 0, 1, 0, 1]\n",
        "\n",
        "# 텍스트 데이터를 벡터로 변환 (단어 카운트를 사용)\n",
        "vectorizer = CountVectorizer()\n",
        "X = vectorizer.fit_transform(documents)\n",
        "\n",
        "# 학습용과 테스트용 데이터 분리\n",
        "X_train, X_test, y_train, y_test = train_test_split(X, labels, test_size=0.3, random_state=42)\n",
        "\n",
        "# Naive Bayes 분류기 모델 생성\n",
        "nb_classifier = MultinomialNB()\n",
        "\n",
        "# 모델 학습\n",
        "nb_classifier.fit(X_train, y_train)\n",
        "\n",
        "# 테스트 데이터 예측\n",
        "y_pred = nb_classifier.predict(X_test)\n",
        "\n",
        "# 정확도 평가\n",
        "accuracy = accuracy_score(y_test, y_pred)\n",
        "print(f\"모델의 정확도: {accuracy * 100:.2f}%\")\n",
        "\n",
        "\n",
        "# 예측 결과 출력\n",
        "# Get the indices of the test documents in the original documents list\n",
        "test_indices = X_test.toarray().sum(axis=1).nonzero()[0]\n",
        "\n",
        "# Use these indices to select the corresponding documents and predictions\n",
        "for i, pred in zip(test_indices, y_pred):\n",
        "    doc = documents[i]  # Get the document using its original index\n",
        "    print(f\"문서: {doc} -> 예측된 레이블: {'긍정' if pred == 1 else '부정'}\")\n"
      ],
      "metadata": {
        "colab": {
          "base_uri": "https://localhost:8080/"
        },
        "id": "OrKZZTkCbtch",
        "outputId": "d5abdd69-2846-4bbd-b702-b56461c2163a"
      },
      "execution_count": 3,
      "outputs": [
        {
          "output_type": "stream",
          "name": "stdout",
          "text": [
            "모델의 정확도: 100.00%\n",
            "문서: I love programming -> 예측된 레이블: 긍정\n",
            "문서: Python is amazing -> 예측된 레이블: 긍정\n",
            "문서: I hate bugs -> 예측된 레이블: 긍정\n"
          ]
        }
      ]
    }
  ]
}