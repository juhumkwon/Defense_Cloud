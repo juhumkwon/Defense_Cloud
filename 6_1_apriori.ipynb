{
  "nbformat": 4,
  "nbformat_minor": 0,
  "metadata": {
    "colab": {
      "provenance": [],
      "name": "6_1_apriori.ipynb",
      "authorship_tag": "ABX9TyOfguFyXoXRRZN+vdv5bFY4",
      "include_colab_link": true
    },
    "kernelspec": {
      "name": "python3",
      "display_name": "Python 3"
    },
    "language_info": {
      "name": "python"
    }
  },
  "cells": [
    {
      "cell_type": "markdown",
      "metadata": {
        "id": "view-in-github",
        "colab_type": "text"
      },
      "source": [
        "<a href=\"https://colab.research.google.com/github/juhumkwon/Defense_Cloud/blob/main/6_1_apriori.ipynb\" target=\"_parent\"><img src=\"https://colab.research.google.com/assets/colab-badge.svg\" alt=\"Open In Colab\"/></a>"
      ]
    },
    {
      "cell_type": "code",
      "execution_count": null,
      "metadata": {
        "colab": {
          "base_uri": "https://localhost:8080/"
        },
        "id": "NKq_RTa3KN7A",
        "outputId": "77e5cc35-c226-4264-fa02-c18f61ad1929"
      },
      "outputs": [
        {
          "output_type": "stream",
          "name": "stdout",
          "text": [
            "One-Hot Encoded 거래 데이터:\n",
            "      버터      빵     우유\n",
            "0   True   True   True\n",
            "1  False   True   True\n",
            "2   True   True  False\n",
            "3   True  False   True\n",
            "4   True   True   True\n",
            "5  False   True   True\n",
            "\n",
            "빈발 항목 집합:\n",
            "    support  itemsets\n",
            "0  0.666667      (버터)\n",
            "1  0.833333       (빵)\n",
            "2  0.833333      (우유)\n",
            "3  0.500000   (빵, 버터)\n",
            "4  0.500000  (버터, 우유)\n",
            "5  0.666667   (빵, 우유)\n",
            "\n",
            "연관 규칙:\n",
            "  antecedents consequents   support  confidence  lift\n",
            "0        (버터)         (빵)  0.500000        0.75  0.90\n",
            "1        (버터)        (우유)  0.500000        0.75  0.90\n",
            "2         (빵)        (우유)  0.666667        0.80  0.96\n",
            "3        (우유)         (빵)  0.666667        0.80  0.96\n"
          ]
        },
        {
          "output_type": "stream",
          "name": "stderr",
          "text": [
            "/usr/local/lib/python3.10/dist-packages/ipykernel/ipkernel.py:283: DeprecationWarning: `should_run_async` will not call `transform_cell` automatically in the future. Please pass the result to `transformed_cell` argument and any exception that happen during thetransform in `preprocessing_exc_tuple` in IPython 7.17 and above.\n",
            "  and should_run_async(code)\n"
          ]
        }
      ],
      "source": [
        "from IPython import get_ipython\n",
        "from IPython.display import display\n",
        "# %%\n",
        "# 필요한 라이브러리 설치 및 임포트\n",
        "# pip install mlxtend 를 통해 설치 필요\n",
        "from mlxtend.frequent_patterns import apriori\n",
        "from mlxtend.frequent_patterns import association_rules\n",
        "from mlxtend.preprocessing import TransactionEncoder\n",
        "import pandas as pd\n",
        "\n",
        "# 1. 데이터셋 준비\n",
        "transactions = [\n",
        "    ['빵', '버터', '우유'],\n",
        "    ['빵', '우유'],\n",
        "    ['빵', '버터'],\n",
        "    ['버터', '우유'],\n",
        "    ['빵', '우유', '버터'],\n",
        "    ['빵', '우유']\n",
        "]\n",
        "\n",
        "# 2. 데이터 One-Hot Encoding\n",
        "\"\"\"\n",
        "TransactionEncoder()는 MLxtend 라이브러리에서 제공하는 유틸리티로,\n",
        "거래 데이터(트랜잭션 데이터)를 원-핫 인코딩(One-Hot Encoding) 형식으로 변환하는 데 사용됩니다.\n",
        "\"\"\"\n",
        "te = TransactionEncoder()\n",
        "\n",
        "\"\"\"\n",
        "te_array = te.fit(transactions).transform(transactions)는 TransactionEncoder 객체를 사용해\n",
        "거래 데이터를 원-핫 인코딩(One-Hot Encoding) 형식으로 변환하는 코드입니다. 이 코드는 두 가지 작업을 수행합니다:\n",
        "\"\"\"\n",
        "te_ary = te.fit(transactions).transform(transactions)\n",
        "df = pd.DataFrame(te_ary, columns=te.columns_)\n",
        "\n",
        "# 3. Apriori 알고리즘 적용\n",
        "# apriori 함수로 빈발 항목 집합(frequent itemsets)을 계산하는 코드입니다.\n",
        "frequent_itemsets = apriori(df, min_support=0.5, use_colnames=True)\n",
        "\n",
        "# 4. 연관 규칙 생성\n",
        "# num_itemsets argument was removed.\n",
        "# Instead, you should now filter the frequent itemsets DataFrame before passing it to association_rules.\n",
        "# We'll pass the length of the original transactions as num_itemsets.\n",
        "rules = association_rules(frequent_itemsets, metric=\"confidence\", min_threshold=0.7, num_itemsets=len(transactions)) #, support_only=False) # If you only need the rule support, set support_only=True\n",
        "\n",
        "# 결과 출력\n",
        "print(\"One-Hot Encoded 거래 데이터:\")\n",
        "print(df)\n",
        "print(\"\\n빈발 항목 집합:\")\n",
        "print(frequent_itemsets)\n",
        "print(\"\\n연관 규칙:\")\n",
        "print(rules[['antecedents', 'consequents', 'support', 'confidence', 'lift']])"
      ]
    }
  ]
}