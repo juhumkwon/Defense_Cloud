{
  "nbformat": 4,
  "nbformat_minor": 0,
  "metadata": {
    "colab": {
      "provenance": [],
      "name": "3_1_adaboost(iris데이터).ipynb",
      "authorship_tag": "ABX9TyOrNxVLk8C9ld8KOxB6QRwp",
      "include_colab_link": true
    },
    "kernelspec": {
      "name": "python3",
      "display_name": "Python 3"
    },
    "language_info": {
      "name": "python"
    }
  },
  "cells": [
    {
      "cell_type": "markdown",
      "metadata": {
        "id": "view-in-github",
        "colab_type": "text"
      },
      "source": [
        "<a href=\"https://colab.research.google.com/github/juhumkwon/Defense_Cloud/blob/main/3_1_adaboost(iris%EB%8D%B0%EC%9D%B4%ED%84%B0).ipynb\" target=\"_parent\"><img src=\"https://colab.research.google.com/assets/colab-badge.svg\" alt=\"Open In Colab\"/></a>"
      ]
    },
    {
      "cell_type": "code",
      "execution_count": null,
      "metadata": {
        "id": "rIqU6T52nZmv",
        "outputId": "4d26ec30-9821-47ba-8789-77d544db7697",
        "colab": {
          "base_uri": "https://localhost:8080/"
        }
      },
      "outputs": [
        {
          "output_type": "stream",
          "name": "stdout",
          "text": [
            "Adaboost 모델 정확도: 0.9333\n",
            "\n",
            "실제 클래스  |  예측된 클래스\n",
            "------------------------------\n",
            "    versicolor |  versicolor\n",
            "    setosa     |  setosa    \n",
            "    virginica  |  virginica \n",
            "    versicolor |  versicolor\n",
            "    versicolor |  versicolor\n",
            "    setosa     |  setosa    \n",
            "    versicolor |  versicolor\n",
            "    virginica  |  virginica \n",
            "    versicolor |  virginica \n",
            "    versicolor |  versicolor\n",
            "    virginica  |  versicolor\n",
            "    setosa     |  setosa    \n",
            "    setosa     |  setosa    \n",
            "    setosa     |  setosa    \n",
            "    setosa     |  setosa    \n",
            "    versicolor |  versicolor\n",
            "    virginica  |  virginica \n",
            "    versicolor |  versicolor\n",
            "    versicolor |  versicolor\n",
            "    virginica  |  virginica \n",
            "    setosa     |  setosa    \n",
            "    virginica  |  virginica \n",
            "    setosa     |  setosa    \n",
            "    virginica  |  virginica \n",
            "    virginica  |  virginica \n",
            "    virginica  |  virginica \n",
            "    virginica  |  virginica \n",
            "    virginica  |  virginica \n",
            "    setosa     |  setosa    \n",
            "    setosa     |  setosa    \n",
            "\n",
            "분류 보고서:\n",
            "               precision    recall  f1-score   support\n",
            "\n",
            "      setosa       1.00      1.00      1.00        10\n",
            "  versicolor       0.89      0.89      0.89         9\n",
            "   virginica       0.91      0.91      0.91        11\n",
            "\n",
            "    accuracy                           0.93        30\n",
            "   macro avg       0.93      0.93      0.93        30\n",
            "weighted avg       0.93      0.93      0.93        30\n",
            "\n"
          ]
        }
      ],
      "source": [
        "import numpy as np\n",
        "import matplotlib.pyplot as plt\n",
        "from sklearn.datasets import load_iris\n",
        "from sklearn.model_selection import train_test_split\n",
        "from sklearn.ensemble import AdaBoostClassifier\n",
        "from sklearn.tree import DecisionTreeClassifier\n",
        "from sklearn.metrics import accuracy_score, classification_report\n",
        "\n",
        "# 1. Iris 데이터 로드\n",
        "iris = load_iris()\n",
        "X, y = iris.data, iris.target  # 특성(X), 클래스(y)\n",
        "\n",
        "# 2. 데이터 분할 (80% 훈련, 20% 테스트)\n",
        "X_train, X_test, y_train, y_test = train_test_split(X, y, test_size=0.2, random_state=42)\n",
        "\n",
        "# 3. Adaboost 모델 정의 (기본 모델로 의사결정나무 사용)\n",
        "base_model = DecisionTreeClassifier(max_depth=1, random_state=42)  # 약한 학습기로 깊이가 1인 결정트리 사용\n",
        "# 'base_estimator'를 'estimator'로 변경\n",
        "adaboost_model = AdaBoostClassifier(estimator=base_model, n_estimators=50, random_state=42)\n",
        "\n",
        "# 4. Adaboost 모델 학습\n",
        "adaboost_model.fit(X_train, y_train)\n",
        "\n",
        "# 5. 테스트 데이터 예측\n",
        "y_pred = adaboost_model.predict(X_test)\n",
        "\n",
        "# 6. 모델 평가\n",
        "accuracy = accuracy_score(y_test, y_pred)\n",
        "print(f\"Adaboost 모델 정확도: {accuracy:.4f}\\n\")\n",
        "\n",
        "# 7. 예측 결과 출력\n",
        "print(\"실제 클래스  |  예측된 클래스\")\n",
        "print(\"-\" * 30)\n",
        "for true_label, pred_label in zip(y_test, y_pred):\n",
        "    print(f\"    {iris.target_names[true_label]:10} |  {iris.target_names[pred_label]:10}\")\n",
        "\n",
        "# 8. 분류 보고서 출력\n",
        "print(\"\\n분류 보고서:\\n\", classification_report(y_test, y_pred, target_names=iris.target_names))"
      ]
    }
  ]
}