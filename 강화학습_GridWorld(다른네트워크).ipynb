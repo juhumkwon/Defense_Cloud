{
  "nbformat": 4,
  "nbformat_minor": 0,
  "metadata": {
    "colab": {
      "provenance": [],
      "authorship_tag": "ABX9TyPqMus6GoPNGqaqZiRYZitP",
      "include_colab_link": true
    },
    "kernelspec": {
      "name": "python3",
      "display_name": "Python 3"
    },
    "language_info": {
      "name": "python"
    }
  },
  "cells": [
    {
      "cell_type": "markdown",
      "metadata": {
        "id": "view-in-github",
        "colab_type": "text"
      },
      "source": [
        "<a href=\"https://colab.research.google.com/github/juhumkwon/Defense_Cloud/blob/main/%EA%B0%95%ED%99%94%ED%95%99%EC%8A%B5_GridWorld(%EB%8B%A4%EB%A5%B8%EB%84%A4%ED%8A%B8%EC%9B%8C%ED%81%AC).ipynb\" target=\"_parent\"><img src=\"https://colab.research.google.com/assets/colab-badge.svg\" alt=\"Open In Colab\"/></a>"
      ]
    },
    {
      "cell_type": "code",
      "execution_count": 1,
      "metadata": {
        "colab": {
          "base_uri": "https://localhost:8080/"
        },
        "id": "KQQspNtp-j7n",
        "outputId": "15177308-c08c-4bed-963b-cbb2f3eb3296"
      },
      "outputs": [
        {
          "output_type": "stream",
          "name": "stdout",
          "text": [
            "Requirement already satisfied: opencv-python in /usr/local/lib/python3.11/dist-packages (4.11.0.86)\n",
            "Requirement already satisfied: numpy>=1.21.2 in /usr/local/lib/python3.11/dist-packages (from opencv-python) (2.0.2)\n"
          ]
        }
      ],
      "source": [
        "!pip install opencv-python"
      ]
    },
    {
      "cell_type": "code",
      "source": [
        "import numpy as np\n",
        "import tensorflow as tf\n",
        "import random\n",
        "import cv2\n",
        "import time\n",
        "from google.colab.patches import cv2_imshow\n",
        "from IPython.display import clear_output\n",
        "\n",
        "# GridWorld 환경\n",
        "class GridWorld:\n",
        "    def __init__(self, size=5):\n",
        "        self.size = size\n",
        "        self.reset()\n",
        "\n",
        "    def reset(self):\n",
        "        self.agent_pos = [0, 0]\n",
        "        self.goal_pos = [self.size - 1, self.size - 1]\n",
        "        return self.get_state()\n",
        "\n",
        "    def get_state(self):\n",
        "        return self.agent_pos[0] * self.size + self.agent_pos[1]\n",
        "\n",
        "    def step(self, action):\n",
        "        if action == 0 and self.agent_pos[0] > 0:\n",
        "            self.agent_pos[0] -= 1\n",
        "        elif action == 1 and self.agent_pos[0] < self.size - 1:\n",
        "            self.agent_pos[0] += 1\n",
        "        elif action == 2 and self.agent_pos[1] > 0:\n",
        "            self.agent_pos[1] -= 1\n",
        "        elif action == 3 and self.agent_pos[1] < self.size - 1:\n",
        "            self.agent_pos[1] += 1\n",
        "\n",
        "        done = self.agent_pos == self.goal_pos\n",
        "        reward = 1.0 if done else -0.01\n",
        "        return self.get_state(), reward, done\n",
        "\n",
        "    def render(self, delay=200):\n",
        "        clear_output(wait=True)\n",
        "        cell_size = 70\n",
        "        img = np.ones((self.size * cell_size, self.size * cell_size, 3), dtype=np.uint8) * 255\n",
        "\n",
        "        for i in range(self.size):\n",
        "            for j in range(self.size):\n",
        "                x, y = j * cell_size, i * cell_size\n",
        "                cv2.rectangle(img, (x, y), (x + cell_size, y + cell_size), (200, 200, 200), 1)\n",
        "\n",
        "        ax, ay = self.agent_pos[1] * cell_size, self.agent_pos[0] * cell_size\n",
        "        cv2.rectangle(img, (ax, ay), (ax + cell_size, ay + cell_size), (255, 0, 0), -1)\n",
        "\n",
        "        gx, gy = self.goal_pos[1] * cell_size, self.goal_pos[0] * cell_size\n",
        "        cv2.rectangle(img, (gx, gy), (gx + cell_size, gy + cell_size), (0, 255, 0), -1)\n",
        "\n",
        "        cv2_imshow(img)\n",
        "        time.sleep(delay / 1000.0)\n",
        "\n",
        "# Q-network\n",
        "class QNet(tf.keras.Model):\n",
        "    def __init__(self, state_size, action_size):\n",
        "        super(QNet, self).__init__()\n",
        "        self.d1 = tf.keras.layers.Dense(32, activation='relu', input_shape=(state_size,))\n",
        "        self.d2 = tf.keras.layers.Dense(32, activation='relu')\n",
        "        self.out = tf.keras.layers.Dense(action_size, activation='linear')\n",
        "\n",
        "    def call(self, x):\n",
        "        x = self.d1(x)\n",
        "        x = self.d2(x)\n",
        "        return self.out(x)\n",
        "\n",
        "# 하이퍼파라미터\n",
        "grid_size = 5\n",
        "state_size = grid_size * grid_size\n",
        "action_size = 4\n",
        "episodes = 300\n",
        "sync_interval = 10  # 매 10 에피소드마다 타겟 네트워크 동기화\n",
        "\n",
        "gamma = 0.99\n",
        "epsilon = 1.0\n",
        "epsilon_decay = 0.995\n",
        "epsilon_min = 0.1\n",
        "learning_rate = 0.01\n",
        "\n",
        "# 환경 및 모델 초기화\n",
        "env = GridWorld(grid_size)\n",
        "model = QNet(state_size, action_size)          # 예측 네트워크\n",
        "target_model = QNet(state_size, action_size)   # 타겟 네트워크\n",
        "model.compile(optimizer=tf.keras.optimizers.Adam(learning_rate), loss='mse')\n",
        "target_model.set_weights(model.get_weights())  # 초기 동기화\n",
        "\n",
        "# 학습 루프\n",
        "for episode in range(episodes):\n",
        "    state = env.reset()\n",
        "    done = False\n",
        "    total_reward = 0\n",
        "\n",
        "    while not done:\n",
        "        state_input = tf.one_hot(state, state_size)\n",
        "        state_input = tf.reshape(state_input, [1, state_size])\n",
        "\n",
        "        if np.random.rand() < epsilon:\n",
        "            action = np.random.choice(action_size)\n",
        "        else:\n",
        "            q_values = model.predict(state_input, verbose=0)\n",
        "            action = np.argmax(q_values[0])\n",
        "\n",
        "        next_state, reward, done = env.step(action)\n",
        "        next_state_input = tf.one_hot(next_state, state_size)\n",
        "        next_state_input = tf.reshape(next_state_input, [1, state_size])\n",
        "\n",
        "        target_q = model.predict(state_input, verbose=0)\n",
        "        if done:\n",
        "            target_q[0][action] = reward\n",
        "        else:\n",
        "            next_q = target_model.predict(next_state_input, verbose=0)  # 🎯 타겟 네트워크 사용\n",
        "            target_q[0][action] = reward + gamma * np.max(next_q[0])\n",
        "\n",
        "        model.fit(state_input, target_q, epochs=1, verbose=0)\n",
        "\n",
        "        state = next_state\n",
        "        total_reward += reward\n",
        "        env.render()\n",
        "\n",
        "    if epsilon > epsilon_min:\n",
        "        epsilon *= epsilon_decay\n",
        "\n",
        "    # ✅ 목표 도달 시 출력 및 대기\n",
        "    if reward == 1.0:\n",
        "        print(f\"✅ Episode {episode+1}: Goal reached! Total reward = {total_reward:.2f}, Epsilon = {epsilon:.3f}\")\n",
        "        time.sleep(3)\n",
        "\n",
        "    # 🎯 타겟 네트워크 업데이트\n",
        "    if (episode + 1) % sync_interval == 0:\n",
        "        target_model.set_weights(model.get_weights())\n",
        "        print(f\"🔁 Target network synced at episode {episode+1}\")\n"
      ],
      "metadata": {
        "colab": {
          "base_uri": "https://localhost:8080/",
          "height": 682
        },
        "id": "odlufBYg-qi9",
        "outputId": "7da61519-2538-4e85-cb48-4f0f41c9c721"
      },
      "execution_count": 2,
      "outputs": [
        {
          "output_type": "display_data",
          "data": {
            "text/plain": [
              "<PIL.Image.Image image mode=RGB size=350x350>"
            ],
            "image/png": "[encoded data removed]",
            "image/jpeg": "[encoded data removed]"
          },
          "metadata": {}
        },
        {
          "output_type": "error",
          "ename": "KeyboardInterrupt",
          "evalue": "",
          "traceback": [
            "\u001b[0;31m---------------------------------------------------------------------------\u001b[0m",
            "\u001b[0;31mKeyboardInterrupt\u001b[0m                         Traceback (most recent call last)",
            "\u001b[0;32m/tmp/ipython-input-2-82670531.py\u001b[0m in \u001b[0;36m<cell line: 0>\u001b[0;34m()\u001b[0m\n\u001b[1;32m    118\u001b[0m         \u001b[0mstate\u001b[0m \u001b[0;34m=\u001b[0m \u001b[0mnext_state\u001b[0m\u001b[0;34m\u001b[0m\u001b[0;34m\u001b[0m\u001b[0m\n\u001b[1;32m    119\u001b[0m         \u001b[0mtotal_reward\u001b[0m \u001b[0;34m+=\u001b[0m \u001b[0mreward\u001b[0m\u001b[0;34m\u001b[0m\u001b[0;34m\u001b[0m\u001b[0m\n\u001b[0;32m--> 120\u001b[0;31m         \u001b[0menv\u001b[0m\u001b[0;34m.\u001b[0m\u001b[0mrender\u001b[0m\u001b[0;34m(\u001b[0m\u001b[0;34m)\u001b[0m\u001b[0;34m\u001b[0m\u001b[0;34m\u001b[0m\u001b[0m\n\u001b[0m\u001b[1;32m    121\u001b[0m \u001b[0;34m\u001b[0m\u001b[0m\n\u001b[1;32m    122\u001b[0m     \u001b[0;32mif\u001b[0m \u001b[0mepsilon\u001b[0m \u001b[0;34m>\u001b[0m \u001b[0mepsilon_min\u001b[0m\u001b[0;34m:\u001b[0m\u001b[0;34m\u001b[0m\u001b[0;34m\u001b[0m\u001b[0m\n",
            "\u001b[0;32m/tmp/ipython-input-2-82670531.py\u001b[0m in \u001b[0;36mrender\u001b[0;34m(self, delay)\u001b[0m\n\u001b[1;32m     52\u001b[0m \u001b[0;34m\u001b[0m\u001b[0m\n\u001b[1;32m     53\u001b[0m         \u001b[0mcv2_imshow\u001b[0m\u001b[0;34m(\u001b[0m\u001b[0mimg\u001b[0m\u001b[0;34m)\u001b[0m\u001b[0;34m\u001b[0m\u001b[0;34m\u001b[0m\u001b[0m\n\u001b[0;32m---> 54\u001b[0;31m         \u001b[0mtime\u001b[0m\u001b[0;34m.\u001b[0m\u001b[0msleep\u001b[0m\u001b[0;34m(\u001b[0m\u001b[0mdelay\u001b[0m \u001b[0;34m/\u001b[0m \u001b[0;36m1000.0\u001b[0m\u001b[0;34m)\u001b[0m\u001b[0;34m\u001b[0m\u001b[0;34m\u001b[0m\u001b[0m\n\u001b[0m\u001b[1;32m     55\u001b[0m \u001b[0;34m\u001b[0m\u001b[0m\n\u001b[1;32m     56\u001b[0m \u001b[0;31m# Q-network\u001b[0m\u001b[0;34m\u001b[0m\u001b[0;34m\u001b[0m\u001b[0m\n",
            "\u001b[0;31mKeyboardInterrupt\u001b[0m: "
          ]
        }
      ]
    }
  ]
}