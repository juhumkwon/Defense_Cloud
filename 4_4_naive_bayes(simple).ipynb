{
  "nbformat": 4,
  "nbformat_minor": 0,
  "metadata": {
    "colab": {
      "provenance": [],
      "authorship_tag": "ABX9TyMOAIbDRS+2fug3kTsd05ty",
      "include_colab_link": true
    },
    "kernelspec": {
      "name": "python3",
      "display_name": "Python 3"
    },
    "language_info": {
      "name": "python"
    }
  },
  "cells": [
    {
      "cell_type": "markdown",
      "metadata": {
        "id": "view-in-github",
        "colab_type": "text"
      },
      "source": [
        "<a href=\"https://colab.research.google.com/github/juhumkwon/Defense_Cloud/blob/main/4_4_naive_bayes(simple).ipynb\" target=\"_parent\"><img src=\"https://colab.research.google.com/assets/colab-badge.svg\" alt=\"Open In Colab\"/></a>"
      ]
    },
    {
      "cell_type": "code",
      "execution_count": 6,
      "metadata": {
        "colab": {
          "base_uri": "https://localhost:8080/"
        },
        "id": "0g-u77XIcvsU",
        "outputId": "247932c6-b311-41de-d1ad-585b5dc41063"
      },
      "outputs": [
        {
          "output_type": "stream",
          "name": "stdout",
          "text": [
            "문장: Win a brand new car now! -> 예측: spam\n",
            "문장: Hey Alice, are you coming to the party? -> 예측: spam\n"
          ]
        }
      ],
      "source": [
        "from sklearn.feature_extraction.text import CountVectorizer\n",
        "from sklearn.naive_bayes import MultinomialNB\n",
        "from sklearn.pipeline import make_pipeline\n",
        "\n",
        "# 학습 데이터 (이메일 텍스트와 해당 라벨)\n",
        "data = [\n",
        "    (\"Free money now!!!\", \"spam\"),\n",
        "    (\"Hi Bob, how about a game tomorrow?\", \"ham\"),\n",
        "    (\"Congratulations! You have won a lottery!\", \"spam\"),\n",
        "    (\"Are we still on for the meeting?\", \"ham\"),\n",
        "    (\"Click here to claim your prize!\", \"spam\"),\n",
        "    (\"Let's catch up soon over coffee.\", \"ham\")\n",
        "]\n",
        "\n",
        "# 데이터 분리\n",
        "texts, labels = zip(*data)\n",
        "\n",
        "# 모델 생성 및 학습\n",
        "model = make_pipeline(CountVectorizer(), MultinomialNB())\n",
        "model.fit(texts, labels)\n",
        "\n",
        "# 테스트 데이터 예측\n",
        "test_texts = [\n",
        "    \"Win a brand new car now!\",\n",
        "    \"Hey Alice, are you coming to the party?\"\n",
        "]\n",
        "predicted_labels = model.predict(test_texts)\n",
        "\n",
        "# 결과 출력\n",
        "for text, label in zip(test_texts, predicted_labels):\n",
        "    print(f\"문장: {text} -> 예측: {label}\")\n"
      ]
    }
  ]
}