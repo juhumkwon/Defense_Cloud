{
  "nbformat": 4,
  "nbformat_minor": 0,
  "metadata": {
    "colab": {
      "provenance": [],
      "authorship_tag": "ABX9TyMiEID/GqpWdZHjlyy9+ii7",
      "include_colab_link": true
    },
    "kernelspec": {
      "name": "python3",
      "display_name": "Python 3"
    },
    "language_info": {
      "name": "python"
    }
  },
  "cells": [
    {
      "cell_type": "markdown",
      "metadata": {
        "id": "view-in-github",
        "colab_type": "text"
      },
      "source": [
        "<a href=\"https://colab.research.google.com/github/juhumkwon/Defense_Cloud/blob/main/RIPPER.ipynb\" target=\"_parent\"><img src=\"https://colab.research.google.com/assets/colab-badge.svg\" alt=\"Open In Colab\"/></a>"
      ]
    },
    {
      "cell_type": "code",
      "execution_count": 4,
      "metadata": {
        "colab": {
          "base_uri": "https://localhost:8080/"
        },
        "id": "T9rcxx598-Jw",
        "outputId": "e1c5f9d0-6163-4c3c-decf-cf831fb7a666"
      },
      "outputs": [
        {
          "output_type": "stream",
          "name": "stdout",
          "text": [
            "Requirement already satisfied: ripper in /usr/local/lib/python3.11/dist-packages (0.0.1)\n",
            "Requirement already satisfied: requests in /usr/local/lib/python3.11/dist-packages (from ripper) (2.32.3)\n",
            "Requirement already satisfied: BeautifulSoup4 in /usr/local/lib/python3.11/dist-packages (from ripper) (4.13.3)\n",
            "Requirement already satisfied: soupsieve>1.2 in /usr/local/lib/python3.11/dist-packages (from BeautifulSoup4->ripper) (2.6)\n",
            "Requirement already satisfied: typing-extensions>=4.0.0 in /usr/local/lib/python3.11/dist-packages (from BeautifulSoup4->ripper) (4.12.2)\n",
            "Requirement already satisfied: charset-normalizer<4,>=2 in /usr/local/lib/python3.11/dist-packages (from requests->ripper) (3.4.1)\n",
            "Requirement already satisfied: idna<4,>=2.5 in /usr/local/lib/python3.11/dist-packages (from requests->ripper) (3.10)\n",
            "Requirement already satisfied: urllib3<3,>=1.21.1 in /usr/local/lib/python3.11/dist-packages (from requests->ripper) (2.3.0)\n",
            "Requirement already satisfied: certifi>=2017.4.17 in /usr/local/lib/python3.11/dist-packages (from requests->ripper) (2025.1.31)\n",
            "Collecting wisteria\n",
            "  Downloading wisteria-0.2.3-py3-none-any.whl.metadata (613 bytes)\n",
            "Requirement already satisfied: psutil<6.0.0,>=5.8.0 in /usr/local/lib/python3.11/dist-packages (from wisteria) (5.9.5)\n",
            "Collecting py-cpuinfo<9.0.0,>=8.0.0 (from wisteria)\n",
            "  Downloading py-cpuinfo-8.0.0.tar.gz (99 kB)\n",
            "\u001b[2K     \u001b[90m━━━━━━━━━━━━━━━━━━━━━━━━━━━━━━━━━━━━━━━━\u001b[0m \u001b[32m99.8/99.8 kB\u001b[0m \u001b[31m2.3 MB/s\u001b[0m eta \u001b[36m0:00:00\u001b[0m\n",
            "\u001b[?25h  Preparing metadata (setup.py) ... \u001b[?25l\u001b[?25hdone\n",
            "Collecting rich<11.0.0,>=10.11.0 (from wisteria)\n",
            "  Downloading rich-10.16.2-py3-none-any.whl.metadata (19 kB)\n",
            "Collecting colorama<0.5.0,>=0.4.0 (from rich<11.0.0,>=10.11.0->wisteria)\n",
            "  Downloading colorama-0.4.6-py2.py3-none-any.whl.metadata (17 kB)\n",
            "Collecting commonmark<0.10.0,>=0.9.0 (from rich<11.0.0,>=10.11.0->wisteria)\n",
            "  Downloading commonmark-0.9.1-py2.py3-none-any.whl.metadata (5.7 kB)\n",
            "Requirement already satisfied: pygments<3.0.0,>=2.6.0 in /usr/local/lib/python3.11/dist-packages (from rich<11.0.0,>=10.11.0->wisteria) (2.18.0)\n",
            "Downloading wisteria-0.2.3-py3-none-any.whl (131 kB)\n",
            "\u001b[2K   \u001b[90m━━━━━━━━━━━━━━━━━━━━━━━━━━━━━━━━━━━━━━━━\u001b[0m \u001b[32m131.9/131.9 kB\u001b[0m \u001b[31m5.9 MB/s\u001b[0m eta \u001b[36m0:00:00\u001b[0m\n",
            "\u001b[?25hDownloading rich-10.16.2-py3-none-any.whl (214 kB)\n",
            "\u001b[2K   \u001b[90m━━━━━━━━━━━━━━━━━━━━━━━━━━━━━━━━━━━━━━━━\u001b[0m \u001b[32m214.4/214.4 kB\u001b[0m \u001b[31m19.8 MB/s\u001b[0m eta \u001b[36m0:00:00\u001b[0m\n",
            "\u001b[?25hDownloading colorama-0.4.6-py2.py3-none-any.whl (25 kB)\n",
            "Downloading commonmark-0.9.1-py2.py3-none-any.whl (51 kB)\n",
            "\u001b[2K   \u001b[90m━━━━━━━━━━━━━━━━━━━━━━━━━━━━━━━━━━━━━━━━\u001b[0m \u001b[32m51.1/51.1 kB\u001b[0m \u001b[31m5.5 MB/s\u001b[0m eta \u001b[36m0:00:00\u001b[0m\n",
            "\u001b[?25hBuilding wheels for collected packages: py-cpuinfo\n",
            "  Building wheel for py-cpuinfo (setup.py) ... \u001b[?25l\u001b[?25hdone\n",
            "  Created wheel for py-cpuinfo: filename=py_cpuinfo-8.0.0-py3-none-any.whl size=22243 sha256=4d7df5e70522df389684891d210da754275c5d23e090ea3fd683e1ca35122452\n",
            "  Stored in directory: /root/.cache/pip/wheels/92/90/2d/b3996bd263fdee453dc8ebc4ebe958268d71b664c467c82901\n",
            "Successfully built py-cpuinfo\n",
            "Installing collected packages: py-cpuinfo, commonmark, colorama, rich, wisteria\n",
            "  Attempting uninstall: py-cpuinfo\n",
            "    Found existing installation: py-cpuinfo 9.0.0\n",
            "    Uninstalling py-cpuinfo-9.0.0:\n",
            "      Successfully uninstalled py-cpuinfo-9.0.0\n",
            "  Attempting uninstall: rich\n",
            "    Found existing installation: rich 13.9.4\n",
            "    Uninstalling rich-13.9.4:\n",
            "      Successfully uninstalled rich-13.9.4\n",
            "\u001b[31mERROR: pip's dependency resolver does not currently take into account all the packages that are installed. This behaviour is the source of the following dependency conflicts.\n",
            "bigframes 1.38.0 requires rich<14,>=12.4.4, but you have rich 10.16.2 which is incompatible.\n",
            "flax 0.10.4 requires rich>=11.1, but you have rich 10.16.2 which is incompatible.\n",
            "pymc 5.21.1 requires rich>=13.7.1, but you have rich 10.16.2 which is incompatible.\n",
            "ibis-framework 9.2.0 requires rich<14,>=12.4.4, but you have rich 10.16.2 which is incompatible.\u001b[0m\u001b[31m\n",
            "\u001b[0mSuccessfully installed colorama-0.4.6 commonmark-0.9.1 py-cpuinfo-8.0.0 rich-10.16.2 wisteria-0.2.3\n"
          ]
        }
      ],
      "source": [
        "!pip install ripper\n",
        "!pip install wisteria"
      ]
    },
    {
      "cell_type": "code",
      "source": [
        "from wittgenstein import RIPPER # Import RIPPER from the 'wittgenstein' package\n",
        "from sklearn.datasets import load_iris\n",
        "from sklearn.model_selection import train_test_split\n",
        "from sklearn.metrics import accuracy_score\n",
        "\n",
        "# Iris 데이터셋 로드\n",
        "iris = load_iris()\n",
        "X = iris.data\n",
        "y = iris.target\n",
        "\n",
        "# 훈련 세트와 테스트 세트로 데이터 나누기\n",
        "X_train, X_test, y_train, y_test = train_test_split(X, y, test_size=0.2, random_state=42)\n",
        "\n",
        "# RIPPER 모델 학습\n",
        "# The 'pos_class' parameter is not supported in this version of wittgenstein.\n",
        "# Instead, you can modify your target variable 'y' to represent binary classification:\n",
        "# For example, if you want to consider class 2 as positive, you can do:\n",
        "y_train_binary = [1 if label == 2 else 0 for label in y_train]\n",
        "y_test_binary = [1 if label == 2 else 0 for label in y_test]\n",
        "\n",
        "ripper_model = RIPPER()  # Remove pos_class parameter\n",
        "ripper_model.fit(X_train, y_train_binary)  # Use the modified target variable\n",
        "\n",
        "# 예측\n",
        "y_pred_binary = ripper_model.predict(X_test)  # Predict on the test set\n",
        "\n",
        "# 정확도 계산\n",
        "accuracy = accuracy_score(y_test_binary, y_pred_binary)\n",
        "print(f\"Accuracy: {accuracy * 100:.2f}%\")\n",
        "\n",
        "# 학습된 규칙 출력\n",
        "print(\"Learned rules:\")\n",
        "# Use ripper_model.ruleset_ instead of ripper_model.get_rules() to access the learned rules.\n",
        "print(ripper_model.ruleset_)"
      ],
      "metadata": {
        "colab": {
          "base_uri": "https://localhost:8080/"
        },
        "id": "GphQ_b3g9Auh",
        "outputId": "bf775f9f-e2c6-4290-d474-12047aea113b"
      },
      "execution_count": 11,
      "outputs": [
        {
          "output_type": "stream",
          "name": "stdout",
          "text": [
            "Accuracy: 100.00%\n",
            "Learned rules:\n",
            "[[2=5.3-5.7] V [3=1.7-1.9] V [3=1.9-2.1] V [2=>5.7] V [2=4.93-5.3]]\n"
          ]
        }
      ]
    }
  ]
}