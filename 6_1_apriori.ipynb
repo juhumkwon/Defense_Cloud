{
  "nbformat": 4,
  "nbformat_minor": 0,
  "metadata": {
    "colab": {
      "provenance": [],
      "name": "6_1_apriori.ipynb",
      "authorship_tag": "ABX9TyPisVVPdTjpEtMYQQkIftMZ",
      "include_colab_link": true
    },
    "kernelspec": {
      "name": "python3",
      "display_name": "Python 3"
    },
    "language_info": {
      "name": "python"
    }
  },
  "cells": [
    {
      "cell_type": "markdown",
      "metadata": {
        "id": "view-in-github",
        "colab_type": "text"
      },
      "source": [
        "<a href=\"https://colab.research.google.com/github/juhumkwon/Defense_Cloud/blob/main/6_1_apriori.ipynb\" target=\"_parent\"><img src=\"https://colab.research.google.com/assets/colab-badge.svg\" alt=\"Open In Colab\"/></a>"
      ]
    },
    {
      "cell_type": "code",
      "execution_count": null,
      "metadata": {
        "colab": {
          "base_uri": "https://localhost:8080/"
        },
        "id": "NKq_RTa3KN7A",
        "outputId": "50a15574-b744-4539-ab77-fa97e380ba18"
      },
      "outputs": [
        {
          "output_type": "stream",
          "name": "stdout",
          "text": [
            "One-Hot Encoded 거래 데이터:\n",
            "      버터      빵     우유\n",
            "0   True   True   True\n",
            "1  False   True   True\n",
            "2   True   True  False\n",
            "3   True  False   True\n",
            "4   True   True   True\n",
            "5  False   True   True\n",
            "\n",
            "빈발 항목 집합:\n",
            "    support  itemsets\n",
            "0  0.666667      (버터)\n",
            "1  0.833333       (빵)\n",
            "2  0.833333      (우유)\n",
            "3  0.500000   (빵, 버터)\n",
            "4  0.500000  (우유, 버터)\n",
            "5  0.666667   (빵, 우유)\n",
            "\n",
            "연관 규칙:\n",
            "  antecedents consequents   support  confidence  lift\n",
            "0        (버터)         (빵)  0.500000        0.75  0.90\n",
            "1        (버터)        (우유)  0.500000        0.75  0.90\n",
            "2         (빵)        (우유)  0.666667        0.80  0.96\n",
            "3        (우유)         (빵)  0.666667        0.80  0.96\n"
          ]
        }
      ],
      "source": [
        "from IPython import get_ipython\n",
        "from IPython.display import display\n",
        "# %%\n",
        "# 필요한 라이브러리 설치 및 임포트\n",
        "# pip install mlxtend 를 통해 설치 필요\n",
        "from mlxtend.frequent_patterns import apriori\n",
        "from mlxtend.frequent_patterns import association_rules\n",
        "from mlxtend.preprocessing import TransactionEncoder\n",
        "import pandas as pd\n",
        "\n",
        "# 1. 데이터셋 준비\n",
        "transactions = [\n",
        "    ['빵', '버터', '우유'],\n",
        "    ['빵', '우유'],\n",
        "    ['빵', '버터'],\n",
        "    ['버터', '우유'],\n",
        "    ['빵', '우유', '버터'],\n",
        "    ['빵', '우유']\n",
        "]\n",
        "\n",
        "# 2. 데이터 One-Hot Encoding\n",
        "# 거래 데이터(트랜잭션 데이터)를 원-핫 인코딩(One-Hot Encoding) 형식으로 변환하는 데 사용됩니다.\n",
        "te = TransactionEncoder()\n",
        "\n",
        "\"\"\"\n",
        "te_array = te.fit(transactions).transform(transactions)는 TransactionEncoder 객체를 사용해\n",
        "거래 데이터를 원-핫 인코딩(One-Hot Encoding) 형식으로 변환하는 코드입니다. 이 코드는 두 가지 작업을 수행합니다:\n",
        "\n",
        "1. te.fit(transactions)\n",
        "거래 데이터(transactions)를 보고, 등장한 모든 고유한 아이템을 학습\n",
        "예를 들어 transactions = [['milk', 'bread'], ['bread', 'butter']] 라면, → 아이템 목록: ['milk', 'bread', 'butter']\n",
        "\n",
        "2. .transform(transactions)\n",
        "학습한 아이템 목록을 기준으로, 각 거래가 어떤 아이템을 포함하는지 1(True)/0(False)로 변환.\n",
        "즉, one-hot 인코딩된 배열(2D array)을 만듬\n",
        "\n",
        "--> 메서드 체이닝(method chaining). 즉:\n",
        "te.fit(transactions) → 먼저 호출됨 → 아이템 목록 학습\n",
        ".transform(transactions) → 그 다음 실행됨 → 학습한 기준으로 one-hot 변환\n",
        "\"\"\"\n",
        "te_ary = te.fit(transactions).transform(transactions)\n",
        "df = pd.DataFrame(te_ary, columns=te.columns_)\n",
        "\n",
        "# 3. Apriori 알고리즘 적용\n",
        "# apriori 함수로 빈발 항목 집합(frequent itemsets)을 계산하는 코드입니다.\n",
        "# min_support=0.5: 최소 지지도 (Support)입니다. 전체 거래 중 해당 항목이 차지하는 비율이 0.5 (즉 50%) 이상인 항목 집합만 추출합니다.\n",
        "frequent_itemsets = apriori(df, min_support=0.5, use_colnames=True)\n",
        "\n",
        "# 4. 연관 규칙 생성\n",
        "# 연관 규칙을 평가할 기준으로 신뢰도(confidence)를 사용한다는 뜻.\n",
        "# 신뢰도가 0.7 이상인 규칙만 출력하겠다는 뜻 (70% 이상의 신뢰도 필터링).\n",
        "rules = association_rules(frequent_itemsets, metric=\"confidence\", min_threshold=0.7, num_itemsets=len(transactions))\n",
        "\n",
        "# 결과 출력\n",
        "print(\"One-Hot Encoded 거래 데이터:\")\n",
        "print(df)\n",
        "print(\"\\n빈발 항목 집합:\")\n",
        "print(frequent_itemsets)\n",
        "print(\"\\n연관 규칙:\")\n",
        "print(rules[['antecedents', 'consequents', 'support', 'confidence', 'lift']])"
      ]
    },
    {
      "cell_type": "code",
      "source": [
        "import pandas as pd\n",
        "\n",
        "# 데이터프레임 생성\n",
        "data = {\n",
        "    'Name': ['Alice', 'Bob', 'Charlie'],\n",
        "    'Age': [24, 27, 22],\n",
        "    'City': ['New York', 'Los Angeles', 'Chicago']\n",
        "}\n",
        "\n",
        "df = pd.DataFrame(data)\n",
        "\n",
        "# 데이터프레임 출력\n",
        "print(df)\n"
      ],
      "metadata": {
        "colab": {
          "base_uri": "https://localhost:8080/"
        },
        "id": "qpSwooUmXmQs",
        "outputId": "96b756f6-54ad-4e5c-87aa-83d40026550a"
      },
      "execution_count": null,
      "outputs": [
        {
          "output_type": "stream",
          "name": "stdout",
          "text": [
            "      Name  Age         City\n",
            "0    Alice   24     New York\n",
            "1      Bob   27  Los Angeles\n",
            "2  Charlie   22      Chicago\n"
          ]
        }
      ]
    }
  ]
}