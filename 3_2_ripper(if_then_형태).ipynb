{
  "nbformat": 4,
  "nbformat_minor": 0,
  "metadata": {
    "colab": {
      "provenance": [],
      "name": "3_2_ripper(if_then_형태).ipynb",
      "authorship_tag": "ABX9TyNEmbQX/+sYZog+bHPzvbKo",
      "include_colab_link": true
    },
    "kernelspec": {
      "name": "python3",
      "display_name": "Python 3"
    },
    "language_info": {
      "name": "python"
    }
  },
  "cells": [
    {
      "cell_type": "markdown",
      "metadata": {
        "id": "view-in-github",
        "colab_type": "text"
      },
      "source": [
        "<a href=\"https://colab.research.google.com/github/juhumkwon/Defense_Cloud/blob/main/3_2_ripper(if_then_%ED%98%95%ED%83%9C).ipynb\" target=\"_parent\"><img src=\"https://colab.research.google.com/assets/colab-badge.svg\" alt=\"Open In Colab\"/></a>"
      ]
    },
    {
      "cell_type": "code",
      "execution_count": null,
      "metadata": {
        "colab": {
          "base_uri": "https://localhost:8080/"
        },
        "id": "T9rcxx598-Jw",
        "outputId": "8c349c9c-659f-4a9a-b1fb-ffbdbd1ef686"
      },
      "outputs": [
        {
          "output_type": "stream",
          "name": "stdout",
          "text": [
            "Requirement already satisfied: ripper in /usr/local/lib/python3.11/dist-packages (0.0.1)\n",
            "Requirement already satisfied: requests in /usr/local/lib/python3.11/dist-packages (from ripper) (2.32.3)\n",
            "Requirement already satisfied: BeautifulSoup4 in /usr/local/lib/python3.11/dist-packages (from ripper) (4.13.3)\n",
            "Requirement already satisfied: soupsieve>1.2 in /usr/local/lib/python3.11/dist-packages (from BeautifulSoup4->ripper) (2.6)\n",
            "Requirement already satisfied: typing-extensions>=4.0.0 in /usr/local/lib/python3.11/dist-packages (from BeautifulSoup4->ripper) (4.12.2)\n",
            "Requirement already satisfied: charset-normalizer<4,>=2 in /usr/local/lib/python3.11/dist-packages (from requests->ripper) (3.4.1)\n",
            "Requirement already satisfied: idna<4,>=2.5 in /usr/local/lib/python3.11/dist-packages (from requests->ripper) (3.10)\n",
            "Requirement already satisfied: urllib3<3,>=1.21.1 in /usr/local/lib/python3.11/dist-packages (from requests->ripper) (2.3.0)\n",
            "Requirement already satisfied: certifi>=2017.4.17 in /usr/local/lib/python3.11/dist-packages (from requests->ripper) (2025.1.31)\n",
            "Requirement already satisfied: wisteria in /usr/local/lib/python3.11/dist-packages (0.2.3)\n",
            "Requirement already satisfied: psutil<6.0.0,>=5.8.0 in /usr/local/lib/python3.11/dist-packages (from wisteria) (5.9.5)\n",
            "Requirement already satisfied: py-cpuinfo<9.0.0,>=8.0.0 in /usr/local/lib/python3.11/dist-packages (from wisteria) (8.0.0)\n",
            "Requirement already satisfied: rich<11.0.0,>=10.11.0 in /usr/local/lib/python3.11/dist-packages (from wisteria) (10.16.2)\n",
            "Requirement already satisfied: colorama<0.5.0,>=0.4.0 in /usr/local/lib/python3.11/dist-packages (from rich<11.0.0,>=10.11.0->wisteria) (0.4.6)\n",
            "Requirement already satisfied: commonmark<0.10.0,>=0.9.0 in /usr/local/lib/python3.11/dist-packages (from rich<11.0.0,>=10.11.0->wisteria) (0.9.1)\n",
            "Requirement already satisfied: pygments<3.0.0,>=2.6.0 in /usr/local/lib/python3.11/dist-packages (from rich<11.0.0,>=10.11.0->wisteria) (2.18.0)\n",
            "Collecting wittgenstein\n",
            "  Downloading wittgenstein-0.3.4-py3-none-any.whl.metadata (11 kB)\n",
            "Requirement already satisfied: pandas in /usr/local/lib/python3.11/dist-packages (from wittgenstein) (2.2.2)\n",
            "Requirement already satisfied: numpy in /usr/local/lib/python3.11/dist-packages (from wittgenstein) (2.0.2)\n",
            "Requirement already satisfied: python-dateutil>=2.8.2 in /usr/local/lib/python3.11/dist-packages (from pandas->wittgenstein) (2.8.2)\n",
            "Requirement already satisfied: pytz>=2020.1 in /usr/local/lib/python3.11/dist-packages (from pandas->wittgenstein) (2025.1)\n",
            "Requirement already satisfied: tzdata>=2022.7 in /usr/local/lib/python3.11/dist-packages (from pandas->wittgenstein) (2025.1)\n",
            "Requirement already satisfied: six>=1.5 in /usr/local/lib/python3.11/dist-packages (from python-dateutil>=2.8.2->pandas->wittgenstein) (1.17.0)\n",
            "Downloading wittgenstein-0.3.4-py3-none-any.whl (110 kB)\n",
            "\u001b[2K   \u001b[90m━━━━━━━━━━━━━━━━━━━━━━━━━━━━━━━━━━━━━━━━\u001b[0m \u001b[32m110.6/110.6 kB\u001b[0m \u001b[31m2.2 MB/s\u001b[0m eta \u001b[36m0:00:00\u001b[0m\n",
            "\u001b[?25hInstalling collected packages: wittgenstein\n",
            "Successfully installed wittgenstein-0.3.4\n"
          ]
        }
      ],
      "source": [
        "!pip install ripper\n",
        "!pip install wisteria\n",
        "!pip install wittgenstein # Install the correct package 'wittgenstein'"
      ]
    },
    {
      "cell_type": "code",
      "source": [
        "from wittgenstein import RIPPER # Import RIPPER from the 'wittgenstein' package\n",
        "from sklearn.datasets import load_iris\n",
        "from sklearn.model_selection import train_test_split\n",
        "from sklearn.metrics import accuracy_score\n",
        "\n",
        "# Iris 데이터셋 로드\n",
        "iris = load_iris()\n",
        "X = iris.data\n",
        "y = iris.target\n",
        "\n",
        "# 훈련 세트와 테스트 세트로 데이터 나누기\n",
        "X_train, X_test, y_train, y_test = train_test_split(X, y, test_size=0.2, random_state=42)\n",
        "\n",
        "# RIPPER 모델 학습\n",
        "# The 'pos_class' parameter is not supported in this version of wittgenstein.\n",
        "# Instead, you can modify your target variable 'y' to represent binary classification:\n",
        "# For example, if you want to consider class 2 as positive, you can do:\n",
        "y_train_binary = [1 if label == 2 else 0 for label in y_train]\n",
        "y_test_binary = [1 if label == 2 else 0 for label in y_test]\n",
        "\n",
        "ripper_model = RIPPER()  # Remove pos_class parameter\n",
        "ripper_model.fit(X_train, y_train_binary)  # Use the modified target variable\n",
        "\n",
        "# 예측\n",
        "y_pred_binary = ripper_model.predict(X_test)  # Predict on the test set\n",
        "\n",
        "# 정확도 계산\n",
        "accuracy = accuracy_score(y_test_binary, y_pred_binary)\n",
        "print(f\"Accuracy: {accuracy * 100:.2f}%\")\n",
        "\n",
        "# 학습된 규칙 출력\n",
        "print(\"Learned rules:\")\n",
        "# Use ripper_model.ruleset_ instead of ripper_model.get_rules() to access the learned rules.\n",
        "print(ripper_model.ruleset_)"
      ],
      "metadata": {
        "colab": {
          "base_uri": "https://localhost:8080/"
        },
        "id": "GphQ_b3g9Auh",
        "outputId": "8171bfdb-8722-4477-e96b-f9998120834d"
      },
      "execution_count": null,
      "outputs": [
        {
          "output_type": "stream",
          "name": "stdout",
          "text": [
            "Accuracy: 100.00%\n",
            "Learned rules:\n",
            "[[2=5.3-5.7] V [2=4.93-5.3] V [2=>5.7] V [3=1.7-1.9]]\n"
          ]
        }
      ]
    }
  ]
}