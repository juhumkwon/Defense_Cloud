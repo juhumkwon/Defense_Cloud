{
  "nbformat": 4,
  "nbformat_minor": 0,
  "metadata": {
    "colab": {
      "provenance": [],
      "authorship_tag": "ABX9TyN9ZcEz60r6IJa/a+ZeblpY",
      "include_colab_link": true
    },
    "kernelspec": {
      "name": "python3",
      "display_name": "Python 3"
    },
    "language_info": {
      "name": "python"
    }
  },
  "cells": [
    {
      "cell_type": "markdown",
      "metadata": {
        "id": "view-in-github",
        "colab_type": "text"
      },
      "source": [
        "<a href=\"https://colab.research.google.com/github/juhumkwon/Defense_Cloud/blob/main/A_11_0_1_%EC%95%B5%EC%BB%A4%EC%83%9D%EC%84%B1.ipynb\" target=\"_parent\"><img src=\"https://colab.research.google.com/assets/colab-badge.svg\" alt=\"Open In Colab\"/></a>"
      ]
    },
    {
      "cell_type": "code",
      "execution_count": null,
      "metadata": {
        "colab": {
          "base_uri": "https://localhost:8080/",
          "height": 667
        },
        "id": "JgRlUFTmukdJ",
        "outputId": "7d265dbf-a95e-43d2-d6ac-e5c9fb524c54"
      },
      "outputs": [
        {
          "output_type": "stream",
          "name": "stdout",
          "text": [
            "총 앵커박스 수: 48\n",
            "샘플 앵커박스 (x_min, y_min, x_max, y_max):\n",
            "[[  9.372583 -13.254833  54.62742   77.25484 ]\n",
            " [  0.         0.        64.        64.      ]\n",
            " [-13.254833   9.372583  77.25484   54.62742 ]\n",
            " [ 73.37258  -13.254833 118.62742   77.25484 ]\n",
            " [ 64.         0.       128.        64.      ]]\n"
          ]
        },
        {
          "output_type": "display_data",
          "data": {
            "text/plain": [
              "<Figure size 600x600 with 1 Axes>"
            ],
            "image/png": "[encoded data removed]"
          },
          "metadata": {}
        }
      ],
      "source": [
        "import tensorflow as tf\n",
        "import numpy as np\n",
        "import matplotlib.pyplot as plt\n",
        "\n",
        "def generate_anchor_wh_tf(scale, aspect_ratios):\n",
        "    r = tf.constant(aspect_ratios, dtype=tf.float32)\n",
        "    s = tf.constant(scale, dtype=tf.float32)\n",
        "\n",
        "    w = s * tf.sqrt(r)\n",
        "    h = s / tf.sqrt(r)\n",
        "    return tf.stack([w, h], axis=1)  # (num_ratios, 2)\n",
        "\n",
        "def generate_anchors(feature_map_size, stride, scale, aspect_ratios):\n",
        "    fm_h, fm_w = feature_map_size\n",
        "    anchors = []\n",
        "    anchor_wh_tensor = generate_anchor_wh_tf(scale, aspect_ratios)  # (num_ratios, 2)\n",
        "    # Convert the tensor to a NumPy array for easier iteration\n",
        "    anchor_wh = anchor_wh_tensor.numpy()\n",
        "\n",
        "    for i in range(fm_h):\n",
        "        for j in range(fm_w):\n",
        "            cx = (j + 0.5) * stride\n",
        "            cy = (i + 0.5) * stride\n",
        "            # Iterate over the NumPy array\n",
        "            for w, h in anchor_wh:\n",
        "                x_min = cx - w / 2\n",
        "                y_min = cy - h / 2\n",
        "                x_max = cx + w / 2\n",
        "                y_max = cy + h / 2\n",
        "                # Ensure the values are standard Python floats before appending\n",
        "                anchors.append([float(x_min), float(y_min), float(x_max), float(y_max)])\n",
        "\n",
        "    return tf.constant(anchors, dtype=tf.float32)  # (total_anchors, 4)\n",
        "\n",
        "# 설정\n",
        "image_size = 256\n",
        "feature_map_size = (4, 4)  # 피처맵 크기\n",
        "stride = image_size // feature_map_size[0]  # 64\n",
        "scale = 64\n",
        "aspect_ratios = [0.5, 1.0, 2.0]\n",
        "\n",
        "# 앵커박스 생성\n",
        "anchors = generate_anchors(feature_map_size, stride, scale, aspect_ratios)\n",
        "print(\"총 앵커박스 수:\", anchors.shape[0])\n",
        "print(\"샘플 앵커박스 (x_min, y_min, x_max, y_max):\")\n",
        "print(anchors[:5].numpy())\n",
        "\n",
        "# 시각화 (선택)\n",
        "def plot_anchors(anchors, image_size):\n",
        "    plt.figure(figsize=(6, 6))\n",
        "    # Convert anchors to NumPy for plotting\n",
        "    anchors_np = anchors.numpy()\n",
        "    for box in anchors_np:\n",
        "        x_min, y_min, x_max, y_max = box\n",
        "        rect = plt.Rectangle((x_min, y_min), x_max - x_min, y_max - y_min,\n",
        "                             fill=False, edgecolor='blue', linewidth=1)\n",
        "        plt.gca().add_patch(rect)\n",
        "    plt.xlim(0, image_size)\n",
        "    plt.ylim(0, image_size)\n",
        "    plt.gca().set_aspect('equal')\n",
        "    plt.title(\"Anchor Boxes\")\n",
        "    plt.gca().invert_yaxis()\n",
        "    plt.show()\n",
        "\n",
        "# 시각화 실행\n",
        "plot_anchors(anchors[:12], image_size)  # 일부만 그림"
      ]
    }
  ]
}