{
  "nbformat": 4,
  "nbformat_minor": 0,
  "metadata": {
    "colab": {
      "provenance": [],
      "name": "A_11_0_2_anchor_objectness_regression_target_.ipynb",
      "authorship_tag": "ABX9TyOHPUqHFAda9/IGYITNhB6t",
      "include_colab_link": true
    },
    "kernelspec": {
      "name": "python3",
      "display_name": "Python 3"
    },
    "language_info": {
      "name": "python"
    }
  },
  "cells": [
    {
      "cell_type": "markdown",
      "metadata": {
        "id": "view-in-github",
        "colab_type": "text"
      },
      "source": [
        "<a href=\"https://colab.research.google.com/github/juhumkwon/Defense_Cloud/blob/main/A_11_0_2_anchor_objectness_regression_target_.ipynb\" target=\"_parent\"><img src=\"https://colab.research.google.com/assets/colab-badge.svg\" alt=\"Open In Colab\"/></a>"
      ]
    },
    {
      "cell_type": "code",
      "execution_count": null,
      "metadata": {
        "colab": {
          "base_uri": "https://localhost:8080/",
          "height": 616
        },
        "id": "OGSHtegxMfZS",
        "outputId": "4466bb85-ee5b-476b-9332-790c1911c045"
      },
      "outputs": [
        {
          "output_type": "display_data",
          "data": {
            "text/plain": [
              "<Figure size 600x600 with 1 Axes>"
            ],
            "image/png": "[encoded data removed]"
          },
          "metadata": {}
        },
        {
          "output_type": "stream",
          "name": "stdout",
          "text": [
            "총 anchor 개수: 2304\n",
            "Positive anchor 개수: 8\n",
            "Negative anchor 개수: 2240\n",
            "Ignored anchor 개수: 56\n"
          ]
        }
      ],
      "source": [
        "import tensorflow as tf\n",
        "import numpy as np\n",
        "import matplotlib.pyplot as plt\n",
        "\n",
        "# Feature Map 기준 anchor 생성\n",
        "def generate_anchors(feature_map_size, scales, ratios):\n",
        "    fm_height, fm_width = feature_map_size\n",
        "    anchors = []\n",
        "    for i in range(fm_height):\n",
        "        for j in range(fm_width):\n",
        "            cx = (j + 0.5) / fm_width\n",
        "            cy = (i + 0.5) / fm_height\n",
        "            for scale in scales:\n",
        "                for ratio in ratios:\n",
        "                    w = scale * np.sqrt(ratio)\n",
        "                    h = scale / np.sqrt(ratio)\n",
        "                    anchors.append([cx, cy, w, h])\n",
        "    return np.array(anchors)\n",
        "\n",
        "# IoU 계산 함수\n",
        "def compute_iou(boxes1, boxes2):\n",
        "    def to_corners(box):\n",
        "        cx, cy, w, h = tf.split(box, 4, axis=-1)\n",
        "        x1 = cx - w / 2\n",
        "        y1 = cy - h / 2\n",
        "        x2 = cx + w / 2\n",
        "        y2 = cy + h / 2\n",
        "        return tf.concat([x1, y1, x2, y2], axis=-1)\n",
        "\n",
        "    boxes1 = to_corners(tf.cast(boxes1, tf.float32))\n",
        "    boxes2 = to_corners(tf.cast(boxes2, tf.float32))\n",
        "\n",
        "    \"\"\"\n",
        "    브로드캐스팅 및 tf.maximum\n",
        "    (N, 1)과 (1, M)이 만나서 브로드캐스팅 → 결과 (N, M)\n",
        "    각 (i, j) 요소는 boxes1[i] 와 boxes2[j] 두 박스의 x1 좌표 중 더 큰 값\n",
        "    → 두 박스가 겹치는 영역의 왼쪽 경계 좌표를 찾는 것 (겹치는 영역 시작 x 위치)\n",
        "    \"\"\"\n",
        "    x1 = tf.maximum(boxes1[:, None, 0], boxes2[None, :, 0])\n",
        "    y1 = tf.maximum(boxes1[:, None, 1], boxes2[None, :, 1])\n",
        "    x2 = tf.minimum(boxes1[:, None, 2], boxes2[None, :, 2])\n",
        "    y2 = tf.minimum(boxes1[:, None, 3], boxes2[None, :, 3])\n",
        "\n",
        "    intersection = tf.maximum(x2 - x1, 0) * tf.maximum(y2 - y1, 0)\n",
        "    area1 = (boxes1[:, 2] - boxes1[:, 0]) * (boxes1[:, 3] - boxes1[:, 1])\n",
        "    area2 = (boxes2[:, 2] - boxes2[:, 0]) * (boxes2[:, 3] - boxes2[:, 1])\n",
        "    union = area1[:, None] + area2[None, :] - intersection\n",
        "    return intersection / union\n",
        "\n",
        "# Regression 보정값 계산 함수\n",
        "\"\"\"\n",
        "이 함수는 앵커 박스를 기준으로 GT 박스의 상대적 위치 및 크기 차이를 계산하며,\n",
        "이렇게 나온 결과값인 tx, ty, tw, th가 바로 모델이 학습할 목표값(Target)입니다.\n",
        "\"\"\"\n",
        "def encode_box(anchor, gt):\n",
        "    a_cx, a_cy, a_w, a_h = tf.split(anchor, 4, axis=-1)\n",
        "    g_cx, g_cy, g_w, g_h = tf.split(gt, 4, axis=-1)\n",
        "\n",
        "    tx = (g_cx - a_cx) / a_w\n",
        "    ty = (g_cy - a_cy) / a_h\n",
        "    tw = tf.math.log(g_w / a_w)\n",
        "    th = tf.math.log(g_h / a_h)\n",
        "    return tf.concat([tx, ty, tw, th], axis=-1)\n",
        "\n",
        "# 시각화 함수\n",
        "def show_anchor_gt_overlap(anchor_tensor, gt_box, objectness_labels):\n",
        "    fig, ax = plt.subplots(figsize=(6, 6))\n",
        "    ax.set_xlim(0, 1)\n",
        "    ax.set_ylim(0, 1)\n",
        "\n",
        "    \"\"\"\n",
        "    보통 바운딩 박스는 중심 좌표 (cx, cy)와 크기 (w, h)로 주어집니다.\n",
        "    그런데 plt.Rectangle()은 왼쪽 아래 모서리 기준이기 때문에:\n",
        "    왼쪽 아래 x = cx - w/2\n",
        "    왼쪽 아래 y = cy - h/2\n",
        "    \"\"\"\n",
        "    cx, cy, w, h = gt_box[0]\n",
        "    ax.add_patch(plt.Rectangle((cx - w/2, cy - h/2), w, h,\n",
        "                 fill=False, edgecolor='green', linewidth=2, label='GT Box'))\n",
        "\n",
        "    # Positive Anchor들을 시각화하는 데 사용됩니다\n",
        "    for i in range(anchor_tensor.shape[0]):\n",
        "        if objectness_labels[i] == 1.0:\n",
        "            cx, cy, w, h = anchor_tensor[i].numpy()\n",
        "            ax.add_patch(plt.Rectangle((cx - w/2, cy - h/2), w, h,\n",
        "                         fill=False, edgecolor='red', linewidth=0.5))\n",
        "\n",
        "    ax.set_title(\"Positive Anchors (red) and GT Box (green)\")\n",
        "    plt.legend()\n",
        "    plt.show()\n",
        "\n",
        "# ----------- 실행 파트 -----------\n",
        "\n",
        "# 설정\n",
        "feature_map_size = (16, 16)\n",
        "scales = [0.1, 0.2, 0.4]\n",
        "ratios = [1.0, 2.0, 0.5]\n",
        "\n",
        "# Anchor 생성\n",
        "anchors = generate_anchors(feature_map_size, scales, ratios)\n",
        "anchor_tensor = tf.constant(anchors, dtype=tf.float32)\n",
        "\n",
        "# 예시 GT box\n",
        "gt_box = tf.constant([[0.5, 0.5, 0.2, 0.3]], dtype=tf.float32)\n",
        "\n",
        "# IoU 계산 및 objectness 라벨링\n",
        "ious = compute_iou(anchor_tensor, gt_box)\n",
        "best_iou = tf.reduce_max(ious, axis=1)\n",
        "positive_mask = best_iou > 0.5\n",
        "negative_mask = best_iou < 0.3\n",
        "\n",
        "\"\"\"\n",
        "1. 첫 번째 tf.where:\n",
        "   positive_mask가 True인 위치에는 1.0을 대입 (Positive anchor)\n",
        "   False인 위치에는 두 번째 tf.where 결과를 대입\n",
        "2. 두 번째 tf.where:\n",
        "   negative_mask가 True인 위치에는 0.0을 대입 (Negative anchor)\n",
        "   둘 다 아니면 -1.0을 대입 (Ignore anchor)\n",
        "\"\"\"\n",
        "objectness_labels = tf.where(positive_mask, 1.0, tf.where(negative_mask, 0.0, -1.0))\n",
        "\n",
        "# Regression 타겟\n",
        "\"\"\"\n",
        "anchor_tensor의 각 앵커 박스와,\n",
        "그 앵커 개수만큼 반복된 같은 gt_box(Ground Truth 박스)들을 비교해서,\n",
        "각 앵커 기준으로 GT 박스 좌표를 인코딩하는 코드입니다.\n",
        "\"\"\"\n",
        "# 앵커 박스를 기준으로 GT 박스의 상대적인 위치와 크기 차이를 계산\n",
        "\"\"\"\n",
        "모델은 앵커 박스에서 얼마나 이동하고 크기를 얼마나 조정해야 정답 박스(GT box)에 가까워지는지를 학습합니다.\n",
        "이를 위해 앵커 기준으로 GT 박스를 인코딩(정규화된 차이)해서 회귀 타깃으로 사용합니다.\n",
        "\"\"\"\n",
        "gt_encoded = encode_box(anchor_tensor, tf.repeat(gt_box, repeats=anchor_tensor.shape[0], axis=0))\n",
        "\n",
        "\n",
        "# 시각화\n",
        "show_anchor_gt_overlap(anchor_tensor, gt_box, objectness_labels)\n",
        "\n",
        "# 결과 출력\n",
        "print(\"총 anchor 개수:\", anchor_tensor.shape[0])\n",
        "print(\"Positive anchor 개수:\", tf.reduce_sum(tf.cast(objectness_labels == 1.0, tf.int32)).numpy())\n",
        "print(\"Negative anchor 개수:\", tf.reduce_sum(tf.cast(objectness_labels == 0.0, tf.int32)).numpy())\n",
        "print(\"Ignored anchor 개수:\", tf.reduce_sum(tf.cast(objectness_labels == -1.0, tf.int32)).numpy())\n"
      ]
    },
    {
      "cell_type": "code",
      "source": [
        "import tensorflow as tf\n",
        "\n",
        "# 1번째 박스 집합 면적 (N=3)\n",
        "area1 = tf.constant([4, 9, 16])   # 예: 3개 박스\n",
        "\n",
        "# 2번째 박스 집합 면적 (M=2)\n",
        "area2 = tf.constant([5, 10])      # 예: 2개 박스\n",
        "\n",
        "# 교집합 면적 (3 x 2)\n",
        "intersection = tf.constant([\n",
        "    [1, 2],  # box0 vs boxA, boxB\n",
        "    [3, 1],  # box1 vs boxA, boxB\n",
        "    [0, 4],  # box2 vs boxA, boxB\n",
        "])\n",
        "\n",
        "# 합집합 계산\n",
        "\"\"\"\n",
        "계산 설명 (첫 번째 값)\n",
        "union[0,0] = area1[0] + area2[0] - intersection[0,0] = 4 + 5 - 1 = 8\n",
        "union[0,1] = 4 + 10 - 2 = 12\n",
        "union[1,0] = 9 + 5 - 3 = 11\n",
        "union[1,1] = 9 + 10 - 1 = 18\n",
        "union[2,0] = 16 + 5 - 0 = 21\n",
        "union[2,1] = 16 + 10 - 4 = 22\n",
        "\"\"\"\n",
        "union = area1[:, None] + area2[None, :] - intersection\n",
        "\n",
        "print(\"union shape:\", union.shape)\n",
        "print(\"union:\\n\", union.numpy())\n"
      ],
      "metadata": {
        "colab": {
          "base_uri": "https://localhost:8080/"
        },
        "id": "PBGdXPozbaTx",
        "outputId": "15e2939a-9d81-476c-a26d-85c7f895f529"
      },
      "execution_count": null,
      "outputs": [
        {
          "output_type": "stream",
          "name": "stdout",
          "text": [
            "union shape: (3, 2)\n",
            "union:\n",
            " [[ 8 12]\n",
            " [11 18]\n",
            " [21 22]]\n"
          ]
        }
      ]
    },
    {
      "cell_type": "code",
      "source": [
        "import tensorflow as tf\n",
        "\n",
        "gt_box = tf.constant([[50, 60, 100, 80]])   # shape (1, 4)\n",
        "anchor_tensor_shape0 = 5\n",
        "\n",
        "repeated = tf.repeat(gt_box, repeats=anchor_tensor_shape0, axis=0)\n",
        "print(repeated.numpy())\n",
        "\n",
        "# 출력:\n",
        "# [[ 50  60 100  80]\n",
        "#  [ 50  60 100  80]\n",
        "#  [ 50  60 100  80]\n",
        "#  [ 50  60 100  80]\n",
        "#  [ 50  60 100  80]]\n"
      ],
      "metadata": {
        "colab": {
          "base_uri": "https://localhost:8080/"
        },
        "id": "MRM5B2CIYM9F",
        "outputId": "697660fb-de21-4758-cd84-1c5e98808b8f"
      },
      "execution_count": null,
      "outputs": [
        {
          "output_type": "stream",
          "name": "stdout",
          "text": [
            "[[ 50  60 100  80]\n",
            " [ 50  60 100  80]\n",
            " [ 50  60 100  80]\n",
            " [ 50  60 100  80]\n",
            " [ 50  60 100  80]]\n"
          ]
        }
      ]
    }
  ]
}