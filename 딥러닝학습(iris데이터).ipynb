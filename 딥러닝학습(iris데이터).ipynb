{
  "nbformat": 4,
  "nbformat_minor": 0,
  "metadata": {
    "colab": {
      "provenance": [],
      "authorship_tag": "ABX9TyPUmbpdDjiSfGGXz+bTahHU",
      "include_colab_link": true
    },
    "kernelspec": {
      "name": "python3",
      "display_name": "Python 3"
    },
    "language_info": {
      "name": "python"
    }
  },
  "cells": [
    {
      "cell_type": "markdown",
      "metadata": {
        "id": "view-in-github",
        "colab_type": "text"
      },
      "source": [
        "<a href=\"https://colab.research.google.com/github/juhumkwon/Defense_Cloud/blob/main/%EB%94%A5%EB%9F%AC%EB%8B%9D%ED%95%99%EC%8A%B5(iris%EB%8D%B0%EC%9D%B4%ED%84%B0).ipynb\" target=\"_parent\"><img src=\"https://colab.research.google.com/assets/colab-badge.svg\" alt=\"Open In Colab\"/></a>"
      ]
    },
    {
      "cell_type": "code",
      "execution_count": 1,
      "metadata": {
        "colab": {
          "base_uri": "https://localhost:8080/",
          "height": 587
        },
        "id": "Kxm_SHTSkGg5",
        "outputId": "b450e8d8-d238-4cb0-e4e6-18f23d4f0191"
      },
      "outputs": [
        {
          "output_type": "error",
          "ename": "TypeError",
          "evalue": "OneHotEncoder.__init__() got an unexpected keyword argument 'sparse'",
          "traceback": [
            "\u001b[0;31m---------------------------------------------------------------------------\u001b[0m",
            "\u001b[0;31mTypeError\u001b[0m                                 Traceback (most recent call last)",
            "\u001b[0;32m<ipython-input-1-1f14711885c0>\u001b[0m in \u001b[0;36m<cell line: 0>\u001b[0;34m()\u001b[0m\n\u001b[1;32m     11\u001b[0m \u001b[0;34m\u001b[0m\u001b[0m\n\u001b[1;32m     12\u001b[0m \u001b[0;31m# 2. 원-핫 인코딩 (One-Hot Encoding)\u001b[0m\u001b[0;34m\u001b[0m\u001b[0;34m\u001b[0m\u001b[0m\n\u001b[0;32m---> 13\u001b[0;31m \u001b[0mencoder\u001b[0m \u001b[0;34m=\u001b[0m \u001b[0mOneHotEncoder\u001b[0m\u001b[0;34m(\u001b[0m\u001b[0msparse\u001b[0m\u001b[0;34m=\u001b[0m\u001b[0;32mFalse\u001b[0m\u001b[0;34m)\u001b[0m\u001b[0;34m\u001b[0m\u001b[0;34m\u001b[0m\u001b[0m\n\u001b[0m\u001b[1;32m     14\u001b[0m \u001b[0my_onehot\u001b[0m \u001b[0;34m=\u001b[0m \u001b[0mencoder\u001b[0m\u001b[0;34m.\u001b[0m\u001b[0mfit_transform\u001b[0m\u001b[0;34m(\u001b[0m\u001b[0my\u001b[0m\u001b[0;34m.\u001b[0m\u001b[0mreshape\u001b[0m\u001b[0;34m(\u001b[0m\u001b[0;34m-\u001b[0m\u001b[0;36m1\u001b[0m\u001b[0;34m,\u001b[0m \u001b[0;36m1\u001b[0m\u001b[0;34m)\u001b[0m\u001b[0;34m)\u001b[0m  \u001b[0;31m# (150, 3)\u001b[0m\u001b[0;34m\u001b[0m\u001b[0;34m\u001b[0m\u001b[0m\n\u001b[1;32m     15\u001b[0m \u001b[0;34m\u001b[0m\u001b[0m\n",
            "\u001b[0;31mTypeError\u001b[0m: OneHotEncoder.__init__() got an unexpected keyword argument 'sparse'"
          ]
        }
      ],
      "source": [
        "\n",
        "import numpy as np\n",
        "import tensorflow as tf\n",
        "from tensorflow import keras\n",
        "from sklearn.datasets import load_iris\n",
        "from sklearn.model_selection import train_test_split\n",
        "from sklearn.preprocessing import StandardScaler, OneHotEncoder\n",
        "\n",
        "# 1. Iris 데이터 로드\n",
        "iris = load_iris()\n",
        "X, y = iris.data, iris.target  # 특성(X), 클래스(y)\n",
        "\n",
        "# 2. 원-핫 인코딩 (One-Hot Encoding)\n",
        "encoder = OneHotEncoder(sparse=False)\n",
        "y_onehot = encoder.fit_transform(y.reshape(-1, 1))  # (150, 3)\n",
        "\n",
        "# 3. 데이터 분할 (80% 훈련, 20% 테스트)\n",
        "X_train, X_test, y_train, y_test = train_test_split(X, y_onehot, test_size=0.2, random_state=42)\n",
        "\n",
        "# 4. 특성 스케일링 (Standardization)\n",
        "scaler = StandardScaler()\n",
        "X_train = scaler.fit_transform(X_train)\n",
        "X_test = scaler.transform(X_test)\n",
        "\n",
        "# 5. 모델 정의 (MLP)\n",
        "model = keras.Sequential([\n",
        "    keras.layers.Dense(10, activation='relu', input_shape=(4,)),  # 입력층 (4개 특성)\n",
        "    keras.layers.Dense(10, activation='relu'),  # 은닉층\n",
        "    keras.layers.Dense(3, activation='softmax')  # 출력층 (3개 클래스)\n",
        "])\n",
        "\n",
        "# 6. 모델 컴파일\n",
        "model.compile(optimizer='adam', loss='categorical_crossentropy', metrics=['accuracy'])\n",
        "\n",
        "# 7. 모델 학습\n",
        "model.fit(X_train, y_train, epochs=100, batch_size=8, verbose=1)\n",
        "\n",
        "# 8. 모델 평가\n",
        "test_loss, test_acc = model.evaluate(X_test, y_test)\n",
        "print(f\"\\n테스트 정확도: {test_acc:.4f}\")\n",
        "\n",
        "# 9. 테스트 데이터 예측\n",
        "y_pred = model.predict(X_test)\n",
        "y_pred_labels = np.argmax(y_pred, axis=1)  # 가장 확률이 높은 클래스 선택\n",
        "y_true_labels = np.argmax(y_test, axis=1)\n",
        "\n",
        "# 10. 예측 결과 출력\n",
        "print(\"\\n실제 클래스  |  예측된 클래스\")\n",
        "print(\"-\" * 30)\n",
        "for true_label, pred_label in zip(y_true_labels, y_pred_labels):\n",
        "    print(f\"    {iris.target_names[true_label]:10} |  {iris.target_names[pred_label]:10}\")"
      ]
    }
  ]
}