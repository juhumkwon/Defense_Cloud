{
  "nbformat": 4,
  "nbformat_minor": 0,
  "metadata": {
    "colab": {
      "provenance": [],
      "authorship_tag": "ABX9TyOE1Pufzp/cw0UQ81hWaJmj",
      "include_colab_link": true
    },
    "kernelspec": {
      "name": "python3",
      "display_name": "Python 3"
    },
    "language_info": {
      "name": "python"
    }
  },
  "cells": [
    {
      "cell_type": "markdown",
      "metadata": {
        "id": "view-in-github",
        "colab_type": "text"
      },
      "source": [
        "<a href=\"https://colab.research.google.com/github/juhumkwon/Defense_Cloud/blob/main/padding_look_ahead_mask.ipynb\" target=\"_parent\"><img src=\"https://colab.research.google.com/assets/colab-badge.svg\" alt=\"Open In Colab\"/></a>"
      ]
    },
    {
      "cell_type": "code",
      "execution_count": 1,
      "metadata": {
        "colab": {
          "base_uri": "https://localhost:8080/"
        },
        "id": "tWh_gGRG2eqn",
        "outputId": "3dfa0024-5f6e-422c-9de2-44904434cca1"
      },
      "outputs": [
        {
          "output_type": "stream",
          "name": "stdout",
          "text": [
            "Padding mask shape: (2, 1, 1, 4)\n",
            "Look-ahead mask shape: (1, 1, 4, 4)\n",
            "Combined mask shape: (2, 1, 4, 4)\n"
          ]
        }
      ],
      "source": [
        "\n",
        "import tensorflow as tf\n",
        "\n",
        "def create_look_ahead_mask(seq_len):\n",
        "    mask = 1 - tf.linalg.band_part(tf.ones((seq_len, seq_len)), -1, 0)\n",
        "    return mask  # shape: (seq_len, seq_len)\n",
        "\n",
        "def create_padding_mask(seq):\n",
        "    mask = tf.cast(tf.math.equal(seq, 0), tf.float32)\n",
        "    return mask[:, tf.newaxis, tf.newaxis, :]  # (batch_size, 1, 1, seq_len)\n",
        "\n",
        "# 예시 입력\n",
        "seq = tf.constant([[7, 6, 0, 0], [1, 2, 3, 0]])  # batch_size=2, seq_len=4\n",
        "\n",
        "# padding mask\n",
        "padding_mask = create_padding_mask(seq)\n",
        "print('Padding mask shape:', padding_mask.shape)  # (2, 1, 1, 4)\n",
        "\n",
        "# look-ahead mask\n",
        "look_ahead_mask = create_look_ahead_mask(seq.shape[1])\n",
        "look_ahead_mask = look_ahead_mask[tf.newaxis, tf.newaxis, :, :]\n",
        "print('Look-ahead mask shape:', look_ahead_mask.shape)  # (1, 1, 4, 4)\n",
        "\n",
        "# combined mask\n",
        "combined_mask = tf.maximum(look_ahead_mask, padding_mask)\n",
        "print('Combined mask shape:', combined_mask.shape)  # (2, 1, 4, 4)"
      ]
    }
  ]
}