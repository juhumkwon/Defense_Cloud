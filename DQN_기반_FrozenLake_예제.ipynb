{
  "nbformat": 4,
  "nbformat_minor": 0,
  "metadata": {
    "colab": {
      "provenance": [],
      "gpuType": "V28",
      "authorship_tag": "ABX9TyMBmczpYbD9+Jz1odUwvAbD",
      "include_colab_link": true
    },
    "kernelspec": {
      "name": "python3",
      "display_name": "Python 3"
    },
    "language_info": {
      "name": "python"
    },
    "accelerator": "TPU"
  },
  "cells": [
    {
      "cell_type": "markdown",
      "metadata": {
        "id": "view-in-github",
        "colab_type": "text"
      },
      "source": [
        "<a href=\"https://colab.research.google.com/github/juhumkwon/Defense_Cloud/blob/main/DQN_%EA%B8%B0%EB%B0%98_FrozenLake_%EC%98%88%EC%A0%9C.ipynb\" target=\"_parent\"><img src=\"https://colab.research.google.com/assets/colab-badge.svg\" alt=\"Open In Colab\"/></a>"
      ]
    },
    {
      "cell_type": "code",
      "source": [
        "import gym\n",
        "import numpy as np\n",
        "import tensorflow as tf\n",
        "import random\n",
        "from collections import deque\n",
        "\n",
        "# 환경 설정\n",
        "env = gym.make(\"FrozenLake-v1\", is_slippery=False)\n",
        "num_states = env.observation_space.n\n",
        "num_actions = env.action_space.n\n",
        "\n",
        "def one_hot(state, size):\n",
        "    vec = np.zeros(size, dtype=np.float32)\n",
        "    vec[state] = 1.0\n",
        "    return vec\n",
        "\n",
        "# Q 네트워크 모델\n",
        "def build_model():\n",
        "    return tf.keras.Sequential([\n",
        "        tf.keras.layers.Input(shape=(num_states,)),\n",
        "        tf.keras.layers.Dense(64, activation='relu'),\n",
        "        tf.keras.layers.Dense(num_actions)\n",
        "    ])\n",
        "\n",
        "model = build_model()\n",
        "target_model = build_model()\n",
        "target_model.set_weights(model.get_weights())\n",
        "\n",
        "# 하이퍼파라미터\n",
        "lr = 0.01\n",
        "gamma = 0.99\n",
        "epsilon = 1.0\n",
        "epsilon_min = 0.1\n",
        "epsilon_decay = 0.995\n",
        "episodes = 3000\n",
        "batch_size = 32\n",
        "buffer = deque(maxlen=10000)\n",
        "optimizer = tf.keras.optimizers.Adam(learning_rate=lr)\n",
        "loss_fn = tf.keras.losses.MeanSquaredError()\n",
        "\n",
        "# ε-greedy\n",
        "def epsilon_greedy(q_vals, eps):\n",
        "    if random.random() < eps:\n",
        "        return random.randint(0, num_actions - 1)\n",
        "    return np.argmax(q_vals)\n",
        "\n",
        "# 학습\n",
        "for ep in range(episodes):\n",
        "    state = env.reset()[0]\n",
        "    done = False\n",
        "    total_reward = 0\n",
        "\n",
        "    while not done:\n",
        "        s_vec = one_hot(state, num_states).reshape(1, -1)\n",
        "        q_vals = model(s_vec, training=False).numpy()[0]\n",
        "        action = epsilon_greedy(q_vals, epsilon)\n",
        "\n",
        "        next_state, reward, terminated, truncated, _ = env.step(action)\n",
        "        done = terminated or truncated\n",
        "        buffer.append((state, action, reward, next_state, done))\n",
        "        state = next_state\n",
        "        total_reward += reward\n",
        "\n",
        "        # 학습\n",
        "        if len(buffer) >= batch_size:\n",
        "            minibatch = random.sample(buffer, batch_size)\n",
        "            states = np.array([one_hot(s, num_states) for s, _, _, _, _ in minibatch])\n",
        "            next_states = np.array([one_hot(s_, num_states) for _, _, _, s_, _ in minibatch])\n",
        "            q_targets = model(states).numpy()\n",
        "            next_qs = target_model(next_states).numpy()\n",
        "\n",
        "            for i, (s, a, r, s_, d) in enumerate(minibatch):\n",
        "                q_targets[i][a] = r if d else r + gamma * np.max(next_qs[i])\n",
        "\n",
        "            with tf.GradientTape() as tape:\n",
        "                q_preds = model(states, training=True)\n",
        "                loss = loss_fn(q_targets, q_preds)\n",
        "            grads = tape.gradient(loss, model.trainable_variables)\n",
        "            optimizer.apply_gradients(zip(grads, model.trainable_variables))\n",
        "\n",
        "    # 타겟 네트워크 갱신\n",
        "    if ep % 20 == 0:\n",
        "        target_model.set_weights(model.get_weights())\n",
        "\n",
        "    if epsilon > epsilon_min:\n",
        "        epsilon *= epsilon_decay\n",
        "\n",
        "    if (ep + 1) % 500 == 0:\n",
        "        print(f\"Episode {ep + 1}, epsilon: {epsilon:.3f}, reward: {total_reward}\")\n"
      ],
      "metadata": {
        "colab": {
          "base_uri": "https://localhost:8080/"
        },
        "id": "W1-dzSt0twYl",
        "outputId": "5259831a-f2e1-4f11-a27a-22cc8891e5b4"
      },
      "execution_count": null,
      "outputs": [
        {
          "output_type": "stream",
          "name": "stdout",
          "text": [
            "Episode 500, epsilon: 0.100, reward: 0.0\n",
            "Episode 1000, epsilon: 0.100, reward: 0.0\n",
            "Episode 1500, epsilon: 0.100, reward: 0.0\n",
            "Episode 2000, epsilon: 0.100, reward: 0.0\n"
          ]
        }
      ]
    }
  ]
}