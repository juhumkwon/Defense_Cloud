{
  "nbformat": 4,
  "nbformat_minor": 0,
  "metadata": {
    "colab": {
      "provenance": [],
      "name": "9_1_1_ScaledDotProductAttention_MultiHeadSelfAttention.ipynb",
      "authorship_tag": "ABX9TyPgqoqCqp9xN5dudxnejgod",
      "include_colab_link": true
    },
    "kernelspec": {
      "name": "python3",
      "display_name": "Python 3"
    },
    "language_info": {
      "name": "python"
    }
  },
  "cells": [
    {
      "cell_type": "markdown",
      "metadata": {
        "id": "view-in-github",
        "colab_type": "text"
      },
      "source": [
        "<a href=\"https://colab.research.google.com/github/juhumkwon/Defense_Cloud/blob/main/9_1_1_ScaledDotProductAttention_MultiHeadSelfAttention.ipynb\" target=\"_parent\"><img src=\"https://colab.research.google.com/assets/colab-badge.svg\" alt=\"Open In Colab\"/></a>"
      ]
    },
    {
      "cell_type": "code",
      "execution_count": null,
      "metadata": {
        "id": "LvoVU6mCiL83"
      },
      "outputs": [],
      "source": [
        "\n",
        "import tensorflow as tf\n",
        "from tensorflow.keras.layers import Layer, Dense\n",
        "\n",
        "class ScaledDotProductAttention(Layer):\n",
        "    def __init__(self):\n",
        "        super().__init__()\n",
        "\n",
        "    def call(self, q, k, v, mask=None):\n",
        "        matmul_qk = tf.matmul(q, k, transpose_b=True)  # (batch, num_heads, seq_len, seq_len)\n",
        "        dk = tf.cast(tf.shape(k)[-1], tf.float32)\n",
        "        scaled_attention_logits = matmul_qk / tf.math.sqrt(dk)\n",
        "\n",
        "        if mask is not None:\n",
        "            scaled_attention_logits += (mask * -1e9)  # mask된 위치는 매우 작은 값으로 만들어 무시\n",
        "\n",
        "        attention_weights = tf.nn.softmax(scaled_attention_logits, axis=-1)\n",
        "        output = tf.matmul(attention_weights, v)  # (batch, num_heads, seq_len, depth)\n",
        "\n",
        "        return output, attention_weights"
      ]
    },
    {
      "cell_type": "code",
      "source": [
        "\n",
        "class MultiHeadSelfAttention(Layer):\n",
        "    def __init__(self, d_model, num_heads):\n",
        "        super().__init__()\n",
        "        assert d_model % num_heads == 0 # assert는 Python에서 조건이 참인지 검사하는 키워드. 만약 조건이 False면 프로그램을 즉시 멈추고 에러를 발생시킴\n",
        "        self.num_heads = num_heads\n",
        "        self.depth = d_model // num_heads # d_model = 512, num_heads = 8 이면 각 head가 64차원짜리 쿼리/키/밸류 벡터를 가진다는 뜻\n",
        "\n",
        "        self.wq = Dense(d_model)\n",
        "        self.wk = Dense(d_model)\n",
        "        self.wv = Dense(d_model)\n",
        "        self.dense = Dense(d_model)\n",
        "        self.attention = ScaledDotProductAttention()\n",
        "\n",
        "# 이 함수는 입력 텐서를 \"head 개수만큼 쪼개는 역할\"을\n",
        "# 단계\t텐서 shape\n",
        "# 입력 x\t(batch_size, seq_len, d_model)\n",
        "# reshape 후\t(batch_size, seq_len, num_heads, depth)\n",
        "# transpose 후 (return)\t(batch_size, num_heads, seq_len, depth) ← 최종 결과\n",
        "# 이렇게 바꾸는 이유는 각 head를 병렬로 처리하기 위함 --> num_heads 차원을 앞쪽으로 빼내서 각 head마다 독립적으로 attention을 계산하게 함\n",
        "\n",
        "    def split_heads(self, x, batch_size):\n",
        "        # x: (batch_size, seq_len, d_model) -> (batch_size, num_heads, seq_len, depth)\n",
        "        x = tf.reshape(x, (batch_size, -1, self.num_heads, self.depth)) # -1은 TensorFlow에게 \"이 자리는 자동으로 계산해줘\"라는 의미\n",
        "        return tf.transpose(x, perm=[0, 2, 1, 3]) # batch_size, seq_len, num_heads, depth의 순서를 --> batch_size, num_heads, seq_len, depth로 바꿈\n",
        "\n",
        "    def call(self, x, mask=None):\n",
        "        batch_size = tf.shape(x)[0] # 입력 텐서 x의 첫 번째 차원(배치 크기)을 실행 중에 안전하게 가져오는 코드\n",
        "\n",
        "        q = self.split_heads(self.wq(x), batch_size)\n",
        "        k = self.split_heads(self.wk(x), batch_size)\n",
        "        v = self.split_heads(self.wv(x), batch_size)\n",
        "\n",
        "        scaled_attention, attention_weights = self.attention(q, k, v, mask)\n",
        "\n",
        "        # Concatenate heads\n",
        "        scaled_attention = tf.transpose(scaled_attention, perm=[0, 2, 1, 3])  # (batch, seq_len, num_heads, depth)\n",
        "        concat_attention = tf.reshape(scaled_attention, (batch_size, -1, self.num_heads * self.depth))\n",
        "\n",
        "        output = self.dense(concat_attention)  # (batch_size, seq_len, d_model)\n",
        "        return output, attention_weights"
      ],
      "metadata": {
        "id": "4VHEynVTi4GC"
      },
      "execution_count": null,
      "outputs": []
    },
    {
      "cell_type": "code",
      "source": [
        "\n",
        "# 하이퍼파라미터\n",
        "batch_size = 2\n",
        "seq_len = 5\n",
        "d_model = 512\n",
        "num_heads = 8\n",
        "\n",
        "# 입력 예시\n",
        "dummy_input = tf.random.uniform((batch_size, seq_len, d_model))\n",
        "\n",
        "# 셀프 어텐션 레이어 실행\n",
        "self_attention = MultiHeadSelfAttention(d_model=d_model, num_heads=num_heads)\n",
        "output, attn_weights = self_attention(dummy_input)\n",
        "\n",
        "print(\"출력 shape:\", output.shape)            # (2, 5, 512)\n",
        "print(\"어텐션 가중치 shape:\", attn_weights.shape)  # (2, 8, 5, 5)"
      ],
      "metadata": {
        "colab": {
          "base_uri": "https://localhost:8080/"
        },
        "id": "RmFrv-sUjAEw",
        "outputId": "eaaa8519-7cad-4321-cd39-b40fa64f2372"
      },
      "execution_count": null,
      "outputs": [
        {
          "output_type": "stream",
          "name": "stdout",
          "text": [
            "출력 shape: (2, 5, 512)\n",
            "어텐션 가중치 shape: (2, 8, 5, 5)\n"
          ]
        }
      ]
    },
    {
      "cell_type": "code",
      "source": [
        "\"\"\"\n",
        "코드\t설명\n",
        "x.shape[0]     \t정적(static) shape — 컴파일 시점에만 사용 가능\n",
        "tf.shape(x)[0]\t동적(dynamic) shape — 실행 중에도 항상 안전하게 사용 가능\n",
        "\"\"\"\n",
        "\n",
        "x = tf.random.uniform((32, 50, 512))  # batch_size=32\n",
        "batch_size = tf.shape(x)[0]\n",
        "print(batch_size)  # → tf.Tensor(32, shape=(), dtype=int32)"
      ],
      "metadata": {
        "id": "QH2w0UejjLED",
        "colab": {
          "base_uri": "https://localhost:8080/"
        },
        "outputId": "8fbb8495-e83c-4625-d7df-c2824148036f"
      },
      "execution_count": null,
      "outputs": [
        {
          "output_type": "stream",
          "name": "stdout",
          "text": [
            "tf.Tensor(32, shape=(), dtype=int32)\n"
          ]
        }
      ]
    }
  ]
}