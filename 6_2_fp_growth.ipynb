{
  "nbformat": 4,
  "nbformat_minor": 0,
  "metadata": {
    "colab": {
      "provenance": [],
      "name": "6_2_fp_growth.ipynb",
      "authorship_tag": "ABX9TyOYS19wp4f3nX4LOqWmAPb5",
      "include_colab_link": true
    },
    "kernelspec": {
      "name": "python3",
      "display_name": "Python 3"
    },
    "language_info": {
      "name": "python"
    }
  },
  "cells": [
    {
      "cell_type": "markdown",
      "metadata": {
        "id": "view-in-github",
        "colab_type": "text"
      },
      "source": [
        "<a href=\"https://colab.research.google.com/github/juhumkwon/Defense_Cloud/blob/main/6_2_fp_growth.ipynb\" target=\"_parent\"><img src=\"https://colab.research.google.com/assets/colab-badge.svg\" alt=\"Open In Colab\"/></a>"
      ]
    },
    {
      "cell_type": "code",
      "execution_count": null,
      "metadata": {
        "colab": {
          "base_uri": "https://localhost:8080/"
        },
        "id": "h6cui51PPxox",
        "outputId": "bf6c7654-a488-4050-ccca-f156094a9f57"
      },
      "outputs": [
        {
          "output_type": "stream",
          "name": "stdout",
          "text": [
            "One-Hot Encoded 거래 데이터:\n",
            "      버터      빵     우유\n",
            "0   True   True   True\n",
            "1   True   True  False\n",
            "2  False   True   True\n",
            "3   True  False  False\n",
            "\n",
            "빈발 항목 집합:\n",
            "   support itemsets\n",
            "0     0.75      (빵)\n",
            "1     0.75     (버터)\n",
            "2     0.50     (우유)\n",
            "3     0.50  (버터, 빵)\n",
            "4     0.50  (빵, 우유)\n",
            "\n",
            "연관 규칙:\n",
            "  antecedents consequents  support  confidence      lift\n",
            "0         (빵)        (우유)      0.5    0.666667  1.333333\n",
            "1        (우유)         (빵)      0.5    1.000000  1.333333\n"
          ]
        }
      ],
      "source": [
        "from mlxtend.frequent_patterns import fpgrowth, association_rules\n",
        "from mlxtend.preprocessing import TransactionEncoder\n",
        "import pandas as pd\n",
        "\n",
        "# 거래 데이터\n",
        "transactions = [\n",
        "    ['우유', '빵', '버터'],\n",
        "    ['빵', '버터'],\n",
        "    ['우유', '빵'],\n",
        "    ['버터']\n",
        "]\n",
        "\n",
        "# 원-핫 인코딩\n",
        "te = TransactionEncoder()\n",
        "te_array = te.fit(transactions).transform(transactions)\n",
        "df = pd.DataFrame(te_array, columns=te.columns_)\n",
        "\n",
        "# FP-Growth 알고리즘으로 빈발 항목 집합 계산\n",
        "frequent_itemsets = fpgrowth(df, min_support=0.5, use_colnames=True)\n",
        "\n",
        "# 연관 규칙 생성\n",
        "# The num_itemsets argument is added here, calculated as the length of the frequent_itemsets DataFrame\n",
        "\"\"\"\n",
        "Lift > 1: A와 B는 양의 상관관계 (함께 살 가능성이 높음)\n",
        "Lift = 1: 독립\n",
        "Lift < 1: 음의 상관관계 (A 사면 B를 덜 살 가능성)\n",
        "\n",
        "min_threshold=1\n",
        "Lift 값이 1 이상인 규칙만 가져오겠다는 뜻.\n",
        "즉, 통계적으로 의미 있는 규칙들만 남김.\n",
        "\"\"\"\n",
        "rules = association_rules(frequent_itemsets, metric=\"lift\", min_threshold=1, num_itemsets=len(frequent_itemsets))\n",
        "\n",
        "\n",
        "# 결과 출력\n",
        "\"\"\"\n",
        "print(\"Frequent Itemsets:\\n\", frequent_itemsets)\n",
        "print(\"\\nAssociation Rules:\\n\", rules)\n",
        "\"\"\"\n",
        "print(\"One-Hot Encoded 거래 데이터:\")\n",
        "print(df)\n",
        "print(\"\\n빈발 항목 집합:\")\n",
        "print(frequent_itemsets)\n",
        "print(\"\\n연관 규칙:\")\n",
        "print(rules[['antecedents', 'consequents', 'support', 'confidence', 'lift']])\n",
        "\n"
      ]
    }
  ]
}