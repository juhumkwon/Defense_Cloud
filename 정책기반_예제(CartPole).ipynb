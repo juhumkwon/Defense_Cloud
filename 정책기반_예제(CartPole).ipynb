{
  "nbformat": 4,
  "nbformat_minor": 0,
  "metadata": {
    "colab": {
      "provenance": [],
      "authorship_tag": "ABX9TyOhDzlXavwObAVtDDpzozLu",
      "include_colab_link": true
    },
    "kernelspec": {
      "name": "python3",
      "display_name": "Python 3"
    },
    "language_info": {
      "name": "python"
    }
  },
  "cells": [
    {
      "cell_type": "markdown",
      "metadata": {
        "id": "view-in-github",
        "colab_type": "text"
      },
      "source": [
        "<a href=\"https://colab.research.google.com/github/juhumkwon/Defense_Cloud/blob/main/%EC%A0%95%EC%B1%85%EA%B8%B0%EB%B0%98_%EC%98%88%EC%A0%9C(CartPole).ipynb\" target=\"_parent\"><img src=\"https://colab.research.google.com/assets/colab-badge.svg\" alt=\"Open In Colab\"/></a>"
      ]
    },
    {
      "cell_type": "code",
      "execution_count": 1,
      "metadata": {
        "colab": {
          "base_uri": "https://localhost:8080/"
        },
        "id": "MFUTeHaOXbRo",
        "outputId": "6aefa84e-1d34-414e-baa9-367faaddb20e"
      },
      "outputs": [
        {
          "output_type": "execute_result",
          "data": {
            "text/plain": [
              "<pyvirtualdisplay.display.Display at 0x7f09b2ec1590>"
            ]
          },
          "metadata": {},
          "execution_count": 1
        }
      ],
      "source": [
        "# --- Colab 환경 설정 (1회 실행) ---\n",
        "!apt-get install -y xvfb > /dev/null 2>&1\n",
        "!pip install -q pyvirtualdisplay gym\n",
        "!pip install -q imageio\n",
        "\n",
        "from pyvirtualdisplay import Display\n",
        "display = Display(visible=0, size=(1400, 900))\n",
        "display.start()\n"
      ]
    },
    {
      "cell_type": "code",
      "source": [
        "import gym\n",
        "import numpy as np\n",
        "import tensorflow as tf\n",
        "from tensorflow.keras import layers\n",
        "import matplotlib.pyplot as plt\n",
        "from IPython.display import HTML\n",
        "import imageio\n",
        "import os\n",
        "\n",
        "# 저장할 디렉토리\n",
        "video_dir = './video'\n",
        "os.makedirs(video_dir, exist_ok=True)\n",
        "\n",
        "# 환경 생성\n",
        "# Using gymnasium instead of gym for newer API\n",
        "import gymnasium as gym\n",
        "env = gym.make('CartPole-v1', render_mode='rgb_array')\n",
        "state_size = env.observation_space.shape[0]\n",
        "action_size = env.action_space.n\n",
        "\n",
        "# 정책 네트워크 정의\n",
        "class PolicyNetwork(tf.keras.Model):\n",
        "    def __init__(self):\n",
        "        super(PolicyNetwork, self).__init__()\n",
        "        self.fc1 = layers.Dense(24, activation='relu')\n",
        "        self.fc2 = layers.Dense(24, activation='relu')\n",
        "        self.out = layers.Dense(action_size, activation='softmax')\n",
        "\n",
        "    def call(self, state):\n",
        "        x = self.fc1(state)\n",
        "        x = self.fc2(x)\n",
        "        return self.out(x)\n",
        "\n",
        "policy = PolicyNetwork()\n",
        "optimizer = tf.keras.optimizers.Adam(learning_rate=0.001)\n",
        "gamma = 0.99\n",
        "\n",
        "def compute_returns(rewards, gamma):\n",
        "    returns = []\n",
        "    G = 0\n",
        "    for r in reversed(rewards):\n",
        "        G = r + gamma * G\n",
        "        returns.insert(0, G)\n",
        "    returns = np.array(returns)\n",
        "    return (returns - np.mean(returns)) / (np.std(returns) + 1e-9)\n",
        "\n",
        "# 학습\n",
        "episodes = 300\n",
        "reward_list = []\n",
        "\n",
        "for episode in range(episodes):\n",
        "    state, info = env.reset()\n",
        "    done = False\n",
        "    states, actions, rewards = [], [], []\n",
        "    total_reward = 0\n",
        "\n",
        "    while not done:\n",
        "        state_tensor = tf.convert_to_tensor([state], dtype=tf.float32)\n",
        "        action_probs = policy(state_tensor)\n",
        "        action = np.random.choice(action_size, p=np.squeeze(action_probs))\n",
        "\n",
        "        next_state, reward, terminated, truncated, info = env.step(action) # Unpack all 5 values\n",
        "        done = terminated or truncated # Combine terminated and truncated\n",
        "\n",
        "        states.append(state)\n",
        "        actions.append(action)\n",
        "        rewards.append(reward)\n",
        "        total_reward += reward\n",
        "        state = next_state\n",
        "\n",
        "    returns = compute_returns(rewards, gamma)\n",
        "\n",
        "    with tf.GradientTape() as tape:\n",
        "        loss = 0\n",
        "        for s, a, G in zip(states, actions, returns):\n",
        "            s_tensor = tf.convert_to_tensor([s], dtype=tf.float32)\n",
        "            probs = policy(s_tensor)\n",
        "            log_prob = tf.math.log(probs[0, a] + 1e-9)\n",
        "            loss += -log_prob * G\n",
        "        loss /= len(states)\n",
        "\n",
        "    grads = tape.gradient(loss, policy.trainable_variables)\n",
        "    optimizer.apply_gradients(zip(grads, policy.trainable_variables))\n",
        "\n",
        "    reward_list.append(total_reward)\n",
        "    if (episode + 1) % 50 == 0:\n",
        "        print(f\"Episode {episode + 1}, Avg Reward: {np.mean(reward_list[-50:]):.2f}\")\n",
        "\n",
        "# ✅ 학습 후 시각화 (영상 저장)\n",
        "frames = []\n",
        "state, info = env.reset() # Unpack both values\n",
        "done = False\n",
        "\n",
        "while not done:\n",
        "    frame = env.render()\n",
        "    frames.append(frame)\n",
        "    state_tensor = tf.convert_to_tensor([state], dtype=tf.float32)\n",
        "    action_probs = policy(state_tensor)\n",
        "    action = np.argmax(np.squeeze(action_probs))\n",
        "    state, reward, terminated, truncated, info = env.step(action) # Unpack all 5 values\n",
        "    done = terminated or truncated # Combine terminated and truncated\n",
        "\n",
        "# mp4로 저장\n",
        "video_path = os.path.join(video_dir, 'reinforce_cartpole.mp4')\n",
        "imageio.mimsave(video_path, frames, fps=30)\n",
        "\n",
        "# Colab에서 재생\n",
        "from IPython.display import Video\n",
        "Video(video_path, embed=True)"
      ],
      "metadata": {
        "colab": {
          "base_uri": "https://localhost:8080/",
          "height": 563
        },
        "id": "noY0UNYcXkuX",
        "outputId": "ec789c70-4d0b-4969-802e-54259a3a5790"
      },
      "execution_count": 4,
      "outputs": [
        {
          "output_type": "stream",
          "name": "stdout",
          "text": [
            "Episode 50, Avg Reward: 18.80\n",
            "Episode 100, Avg Reward: 24.18\n",
            "Episode 150, Avg Reward: 30.08\n",
            "Episode 200, Avg Reward: 42.40\n",
            "Episode 250, Avg Reward: 54.00\n",
            "Episode 300, Avg Reward: 49.64\n"
          ]
        },
        {
          "output_type": "stream",
          "name": "stderr",
          "text": [
            "WARNING:imageio_ffmpeg:IMAGEIO FFMPEG_WRITER WARNING: input image is not divisible by macro_block_size=16, resizing from (600, 400) to (608, 400) to ensure video compatibility with most codecs and players. To prevent resizing, make your input image divisible by the macro_block_size or set the macro_block_size to 1 (risking incompatibility).\n"
          ]
        },
        {
          "output_type": "execute_result",
          "data": {
            "text/plain": [
              "<IPython.core.display.Video object>"
            ],
            "text/html": [
              "<video controls  >\n",
              " <source src=\"data:video/mp4;base64,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\" type=\"video/mp4\">\n",
              " Your browser does not support the video tag.\n",
              " </video>"
            ]
          },
          "metadata": {},
          "execution_count": 4
        }
      ]
    }
  ]
}