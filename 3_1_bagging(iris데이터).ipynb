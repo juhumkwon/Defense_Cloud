{
  "nbformat": 4,
  "nbformat_minor": 0,
  "metadata": {
    "colab": {
      "provenance": [],
      "name": "3_1_bagging(iris데이터).ipynb",
      "authorship_tag": "ABX9TyOI7pFoOJ9I93Dh7vJkinat",
      "include_colab_link": true
    },
    "kernelspec": {
      "name": "python3",
      "display_name": "Python 3"
    },
    "language_info": {
      "name": "python"
    }
  },
  "cells": [
    {
      "cell_type": "markdown",
      "metadata": {
        "id": "view-in-github",
        "colab_type": "text"
      },
      "source": [
        "<a href=\"https://colab.research.google.com/github/juhumkwon/Defense_Cloud/blob/main/3_1_bagging(iris%EB%8D%B0%EC%9D%B4%ED%84%B0).ipynb\" target=\"_parent\"><img src=\"https://colab.research.google.com/assets/colab-badge.svg\" alt=\"Open In Colab\"/></a>"
      ]
    },
    {
      "cell_type": "code",
      "execution_count": null,
      "metadata": {
        "colab": {
          "base_uri": "https://localhost:8080/"
        },
        "id": "1L78jyTnl-Bf",
        "outputId": "f9d70ccf-8313-4d88-b206-351782c4db20"
      },
      "outputs": [
        {
          "output_type": "stream",
          "name": "stdout",
          "text": [
            "배깅 모델 정확도: 1.0000\n",
            "\n",
            "실제 클래스  |  예측된 클래스\n",
            "------------------------------\n",
            "    versicolor |  versicolor\n",
            "    setosa     |  setosa    \n",
            "    virginica  |  virginica \n",
            "    versicolor |  versicolor\n",
            "    versicolor |  versicolor\n",
            "    setosa     |  setosa    \n",
            "    versicolor |  versicolor\n",
            "    virginica  |  virginica \n",
            "    versicolor |  versicolor\n",
            "    versicolor |  versicolor\n",
            "    virginica  |  virginica \n",
            "    setosa     |  setosa    \n",
            "    setosa     |  setosa    \n",
            "    setosa     |  setosa    \n",
            "    setosa     |  setosa    \n",
            "    versicolor |  versicolor\n",
            "    virginica  |  virginica \n",
            "    versicolor |  versicolor\n",
            "    versicolor |  versicolor\n",
            "    virginica  |  virginica \n",
            "    setosa     |  setosa    \n",
            "    virginica  |  virginica \n",
            "    setosa     |  setosa    \n",
            "    virginica  |  virginica \n",
            "    virginica  |  virginica \n",
            "    virginica  |  virginica \n",
            "    virginica  |  virginica \n",
            "    virginica  |  virginica \n",
            "    setosa     |  setosa    \n",
            "    setosa     |  setosa    \n",
            "\n",
            "분류 보고서:\n",
            "               precision    recall  f1-score   support\n",
            "\n",
            "      setosa       1.00      1.00      1.00        10\n",
            "  versicolor       1.00      1.00      1.00         9\n",
            "   virginica       1.00      1.00      1.00        11\n",
            "\n",
            "    accuracy                           1.00        30\n",
            "   macro avg       1.00      1.00      1.00        30\n",
            "weighted avg       1.00      1.00      1.00        30\n",
            "\n"
          ]
        }
      ],
      "source": [
        "\n",
        "import numpy as np\n",
        "import matplotlib.pyplot as plt\n",
        "from sklearn.datasets import load_iris\n",
        "from sklearn.model_selection import train_test_split\n",
        "from sklearn.ensemble import BaggingClassifier\n",
        "from sklearn.tree import DecisionTreeClassifier\n",
        "from sklearn.metrics import accuracy_score, classification_report\n",
        "\n",
        "# 1. Iris 데이터 로드\n",
        "iris = load_iris()\n",
        "X, y = iris.data, iris.target  # 특성(X), 클래스(y)\n",
        "\n",
        "# 2. 데이터 분할 (80% 훈련, 20% 테스트)\n",
        "X_train, X_test, y_train, y_test = train_test_split(X, y, test_size=0.2, random_state=42)\n",
        "\n",
        "# 3. 배깅 모델 정의 (기본 모델로 의사결정나무 사용)\n",
        "base_model = DecisionTreeClassifier(criterion=\"gini\", random_state=42)\n",
        "bagging_model = BaggingClassifier(estimator=base_model, n_estimators=100, random_state=42) # Changed 'base_estimator' to 'estimator'\n",
        "\n",
        "# 4. 배깅 모델 학습\n",
        "bagging_model.fit(X_train, y_train)\n",
        "\n",
        "# 5. 테스트 데이터 예측\n",
        "y_pred = bagging_model.predict(X_test)\n",
        "\n",
        "# 6. 모델 평가\n",
        "accuracy = accuracy_score(y_test, y_pred)\n",
        "print(f\"배깅 모델 정확도: {accuracy:.4f}\\n\")\n",
        "\n",
        "# 7. 예측 결과 출력\n",
        "print(\"실제 클래스  |  예측된 클래스\")\n",
        "print(\"-\" * 30)\n",
        "for true_label, pred_label in zip(y_test, y_pred):\n",
        "    print(f\"    {iris.target_names[true_label]:10} |  {iris.target_names[pred_label]:10}\")\n",
        "\n",
        "# 8. 분류 보고서 출력\n",
        "print(\"\\n분류 보고서:\\n\", classification_report(y_test, y_pred, target_names=iris.target_names))"
      ]
    }
  ]
}