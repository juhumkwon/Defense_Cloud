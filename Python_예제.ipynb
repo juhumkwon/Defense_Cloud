{
  "nbformat": 4,
  "nbformat_minor": 0,
  "metadata": {
    "colab": {
      "provenance": [],
      "authorship_tag": "ABX9TyObqftmz2DcxSY5R2wxA64I",
      "include_colab_link": true
    },
    "kernelspec": {
      "name": "python3",
      "display_name": "Python 3"
    },
    "language_info": {
      "name": "python"
    }
  },
  "cells": [
    {
      "cell_type": "markdown",
      "metadata": {
        "id": "view-in-github",
        "colab_type": "text"
      },
      "source": [
        "<a href=\"https://colab.research.google.com/github/juhumkwon/Defense_Cloud/blob/main/Python_%EC%98%88%EC%A0%9C.ipynb\" target=\"_parent\"><img src=\"https://colab.research.google.com/assets/colab-badge.svg\" alt=\"Open In Colab\"/></a>"
      ]
    },
    {
      "cell_type": "code",
      "execution_count": 3,
      "metadata": {
        "colab": {
          "base_uri": "https://localhost:8080/",
          "height": 87
        },
        "id": "D_CL_s9u7bG8",
        "outputId": "0402888a-f6b4-4bbe-95ac-b11dc7fce4ba"
      },
      "outputs": [
        {
          "output_type": "stream",
          "name": "stdout",
          "text": [
            "Hello, my name is Alice\n"
          ]
        },
        {
          "output_type": "execute_result",
          "data": {
            "text/plain": [
              "'\\n인스턴스(instance)와 객체(object)는 거의 같은 의미로 사용되지만, 약간의 관점 차이가 있습니다.\\n1. 객체(Object)\\n\\n데이터(속성) + 기능(메서드)을 함께 갖는 프로그램의 구성 요소입니다.\\n파이썬에서 클래스를 기반으로 만들어진 모든 것은 객체입니다.\\n\\n예: p = Person(\"Alice\")에서 p는 객체입니다.\\n\\n2. 인스턴스(Instance)\\n어떤 클래스로부터 생성된 객체를 \"그 클래스의 인스턴스\"라고 부릅니다.\\n즉, \"객체\"라는 말보다는 소속을 강조할 때 \"인스턴스\"라고 말합니다.\\n\\n예: p는 Person 클래스의 인스턴스입니다.\\n'"
            ],
            "application/vnd.google.colaboratory.intrinsic+json": {
              "type": "string"
            }
          },
          "metadata": {},
          "execution_count": 3
        }
      ],
      "source": [
        "# <파이썬에서 self의 용도>\n",
        "\"\"\"\n",
        "파이썬에서 self는 클래스 내부에서 인스턴스 자신을 가리키는 예약어입니다. 주로 다음과 같은 용도로 사용됩니다:\n",
        "- 인스턴스 변수 접근: self.variable 형식으로 클래스 내에서 인스턴스 고유의 데이터를 저장하거나 접근할 때 사용합니다.\n",
        "- 인스턴스 메서드 호출: 클래스 내부에서 다른 메서드를 호출할 때 self.method() 형식으로 호출합니다.\n",
        "- 메서드의 첫 번째 매개변수: 인스턴스 메서드는 항상 첫 번째 인자로 self를 받아야, 해당 메서드가 어떤 인스턴스에서 호출됐는지 알 수 있습니다.\n",
        "\"\"\"\n",
        "\n",
        "class Person:\n",
        "    def __init__(self, name):\n",
        "        self.name = name  # 인스턴스 변수에 접근\n",
        "\n",
        "    def say_hello(self):\n",
        "        print(f\"Hello, my name is {self.name}\")  # self를 통해 인스턴스 변수 사용\n",
        "\n",
        "p = Person(\"Alice\")\n",
        "p.say_hello()  # Hello, my name is Alice\n",
        "\n",
        "\"\"\"\n",
        "인스턴스(instance)와 객체(object)는 거의 같은 의미로 사용되지만, 약간의 관점 차이가 있습니다.\n",
        "1. 객체(Object)\n",
        "\n",
        "데이터(속성) + 기능(메서드)을 함께 갖는 프로그램의 구성 요소입니다.\n",
        "파이썬에서 클래스를 기반으로 만들어진 모든 것은 객체입니다.\n",
        "\n",
        "예: p = Person(\"Alice\")에서 p는 객체입니다.\n",
        "\n",
        "2. 인스턴스(Instance)\n",
        "어떤 클래스로부터 생성된 객체를 \"그 클래스의 인스턴스\"라고 부릅니다.\n",
        "즉, \"객체\"라는 말보다는 소속을 강조할 때 \"인스턴스\"라고 말합니다.\n",
        "\n",
        "예: p는 Person 클래스의 인스턴스입니다.\n",
        "\"\"\""
      ]
    },
    {
      "cell_type": "code",
      "source": [
        "# 생성자 __init__() vs. init()\n",
        "\n",
        "\"\"\"\n",
        "1. __init__() vs init()\n",
        "__init__()는 파이썬이 객체를 생성한 후 자동으로 호출하는 생성자 메서드입니다.\n",
        "__init__()는 파이썬 내부에서 특별하게 처리되기 때문에 객체 생성 시 자동으로 실행됩니다.\n",
        "init()는 일반 메서드이며, 자동으로 호출되지 않고 직접 호출해야 합니다.\n",
        "\"\"\"\n",
        "class MyClass:\n",
        "    def __init__(self):\n",
        "        print(\"자동으로 호출됨\")\n",
        "\n",
        "    def init(self):\n",
        "        print(\"직접 호출해야 함\")\n",
        "\n",
        "obj = MyClass()  # __init__() 자동 호출됨\n",
        "obj.init()       # 이건 직접 호출해야 실행됨\n"
      ],
      "metadata": {
        "colab": {
          "base_uri": "https://localhost:8080/"
        },
        "id": "UAgo7KC08A6J",
        "outputId": "5b097a48-9348-484c-b31b-00114f3e5b51"
      },
      "execution_count": 4,
      "outputs": [
        {
          "output_type": "stream",
          "name": "stdout",
          "text": [
            "자동으로 호출됨\n",
            "직접 호출해야 함\n"
          ]
        }
      ]
    },
    {
      "cell_type": "code",
      "source": [
        "# __call__() vs call()\n",
        "\n",
        "\"\"\"\n",
        "__call__()는 객체를 함수처럼 호출할 수 있게 해주는 특수 메서드입니다.\n",
        "객체에 괄호를 붙이면 __call__()이 실행됩니다.\n",
        "\n",
        "call()은 일반 메서드이므로 역시 직접 호출해야 합니다.\n",
        "\"\"\"\n",
        "class CallableObject:\n",
        "    def __call__(self):\n",
        "        print(\"나는 함수처럼 호출됨\")\n",
        "\n",
        "    def call(self):\n",
        "        print(\"나는 직접 호출해야 함\")\n",
        "\n",
        "obj = CallableObject()\n",
        "obj()         # __call__() 실행됨\n",
        "obj.call()    # call() 직접 호출\n"
      ],
      "metadata": {
        "colab": {
          "base_uri": "https://localhost:8080/"
        },
        "id": "CIru4Nhz9FNC",
        "outputId": "f0fe4e56-4eac-4978-a519-64b8f8546ccb"
      },
      "execution_count": 5,
      "outputs": [
        {
          "output_type": "stream",
          "name": "stdout",
          "text": [
            "나는 함수처럼 호출됨\n",
            "나는 직접 호출해야 함\n"
          ]
        }
      ]
    },
    {
      "cell_type": "code",
      "source": [
        "# super()\n",
        "\n",
        "\"\"\"\n",
        "super()는 파이썬에서 부모 클래스의 메서드나 생성자에 접근할 때 사용하는 내장 함수입니다.\n",
        "주로 상속 관계에서 자식 클래스가 부모 클래스의 기능을 확장하거나 재정의할 때 사용됩니다.\n",
        "\"\"\"\n",
        "class Animal:\n",
        "    def __init__(self, name):\n",
        "        self.name = name\n",
        "        print(\"Animal 생성자\",  self.name)\n",
        "\n",
        "class Dog(Animal):\n",
        "    def __init__(self, name, breed):\n",
        "        super().__init__(name)  # 부모 클래스 생성자 호출\n",
        "        self.breed = breed\n",
        "        print(\"Dog 생성자\", self.breed)\n",
        "\n",
        "dog = Dog(\"Max\", \"Labrador\")\n",
        "\n",
        "# 예제: 부모 메서드를 super()로 호출\n",
        "print()\n",
        "class Parent:\n",
        "    def greet(self):\n",
        "        print(\"Hello from Parent\")\n",
        "\n",
        "class Child(Parent):\n",
        "    def greet(self):\n",
        "        print(\"Hello from Child\")\n",
        "        super().greet()  # 부모 클래스의 greet() 호출\n",
        "\n",
        "child = Child()\n",
        "child.greet()\n"
      ],
      "metadata": {
        "colab": {
          "base_uri": "https://localhost:8080/"
        },
        "id": "5CXviYuq9ZSy",
        "outputId": "4e38b1af-efed-4ee8-ab90-8d8434063945"
      },
      "execution_count": 16,
      "outputs": [
        {
          "output_type": "stream",
          "name": "stdout",
          "text": [
            "Animal 생성자 Max\n",
            "Dog 생성자 Labrador\n",
            "\n",
            "Hello from Child\n",
            "Hello from Parent\n"
          ]
        }
      ]
    },
    {
      "cell_type": "code",
      "source": [
        "# **kwargs\n",
        "\n",
        "\"\"\"\n",
        "**kwargs는 파이썬 함수에서 키워드 인자(이름 붙은 인자)를 딕셔너리 형태로 받기 위한 문법입니다. 이름은 \"keyword arguments\"의 줄임말입니다.\n",
        "주로 인자의 개수가 유동적일 때 사용합니다.\n",
        "kwargs['key'] 또는 kwargs.get('key')로 개별 접근 가능.\n",
        "\"\"\"\n",
        "\n",
        "def example_function(**kwargs):\n",
        "    print(kwargs)\n",
        "\n",
        "example_function(a=1, b=2, c=3)\n",
        "\n",
        "# 예: 키워드 인자를 받아서 조건적으로 처리\n",
        "def greet(**kwargs):\n",
        "    if 'name' in kwargs:\n",
        "        print(f\"Hello, {kwargs['name']}!\")\n",
        "    else:\n",
        "        print(\"Hello, stranger!\")\n",
        "\n",
        "greet(name=\"Alice\")   # Hello, Alice!\n",
        "greet()               # Hello, stranger!\n",
        "\n",
        "# **kwargs는 선택적 키워드 인자를 받는 구조이기 때문에, 아무 인자도 넘기지 않아도 호출할 수 있습니다.\n",
        "def greet(**kwargs):\n",
        "    print(\"kwargs =\", kwargs)\n",
        "\n",
        "greet()  # 아무 인자 없이 호출\n"
      ],
      "metadata": {
        "colab": {
          "base_uri": "https://localhost:8080/"
        },
        "id": "psBWC0ns-ZQ7",
        "outputId": "0e0ceb10-9f2e-4a76-8359-b337cf0e80a3"
      },
      "execution_count": 11,
      "outputs": [
        {
          "output_type": "stream",
          "name": "stdout",
          "text": [
            "{'a': 1, 'b': 2, 'c': 3}\n",
            "Hello, Alice!\n",
            "Hello, stranger!\n",
            "kwargs = {}\n"
          ]
        }
      ]
    },
    {
      "cell_type": "code",
      "source": [
        "# *args란?\n",
        "\n",
        "\"\"\"\n",
        "*args는 가변적인 개수의 위치 인자를 받기 위해 사용되는 문법입니다. *args는 함수에 전달된 인자들을 튜플로 모아주는 역할을 합니다.\n",
        "\n",
        "<사용법>\n",
        "*args는 위치 인자들을 모두 하나의 튜플로 받을 수 있게 해줍니다. 즉, 함수 호출 시 인자의 개수가 정해져 있지 않다면 *args를 사용하여 이를 처리할 수 있습니다.\n",
        "\"\"\"\n",
        "\n",
        "def print_numbers(*args):\n",
        "    for num in args:\n",
        "        print(num)\n",
        "\n",
        "print_numbers(1, 2, 3, 4)  # 1 2 3 4\n"
      ],
      "metadata": {
        "colab": {
          "base_uri": "https://localhost:8080/"
        },
        "id": "fin93I6e_ZaQ",
        "outputId": "ff99247e-0a47-4fbf-a11a-af353767b38c"
      },
      "execution_count": 12,
      "outputs": [
        {
          "output_type": "stream",
          "name": "stdout",
          "text": [
            "1\n",
            "2\n",
            "3\n",
            "4\n"
          ]
        }
      ]
    },
    {
      "cell_type": "code",
      "source": [],
      "metadata": {
        "id": "0C2NQ5Ed9j0F"
      },
      "execution_count": null,
      "outputs": []
    }
  ]
}